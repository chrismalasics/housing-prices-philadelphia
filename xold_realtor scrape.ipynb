{
 "cells": [
  {
   "cell_type": "code",
   "execution_count": 320,
   "metadata": {},
   "outputs": [
    {
     "name": "stdout",
     "output_type": "stream",
     "text": [
      "Collecting fake_useragent\n",
      "  Using cached fake-useragent-0.1.11.tar.gz (13 kB)\n",
      "Building wheels for collected packages: fake-useragent\n",
      "  Building wheel for fake-useragent (setup.py) ... \u001b[?25ldone\n",
      "\u001b[?25h  Created wheel for fake-useragent: filename=fake_useragent-0.1.11-py3-none-any.whl size=13487 sha256=63df878f545a07ae8918ab6cb4d354c45c9ef147a0d62ad1761168d9609ab04b\n",
      "  Stored in directory: /Users/chrismalasics/Library/Caches/pip/wheels/ed/f7/62/50ab6c9a0b5567267ab76a9daa9d06315704209b2c5d032031\n",
      "Successfully built fake-useragent\n",
      "Installing collected packages: fake-useragent\n",
      "Successfully installed fake-useragent-0.1.11\n",
      "\u001b[33mWARNING: You are using pip version 20.2.2; however, version 20.2.4 is available.\n",
      "You should consider upgrading via the '/Users/chrismalasics/opt/anaconda3/bin/python -m pip install --upgrade pip' command.\u001b[0m\n"
     ]
    }
   ],
   "source": [
    "#uncomment to install selenium\n",
    "#conda install -c conda-forge selenium\n",
    "#!pip install fake_useragent"
   ]
  },
  {
   "cell_type": "code",
   "execution_count": 2,
   "metadata": {},
   "outputs": [],
   "source": [
    "from bs4 import BeautifulSoup\n",
    "import requests\n",
    "import time, os\n",
    "import re\n",
    "import random\n",
    "from random import randint\n",
    "import random\n",
    "from time import sleep\n",
    "\n",
    "import pandas as pd\n",
    "from pymongo import MongoClient\n",
    "from pprint import pprint\n",
    "import json"
   ]
  },
  {
   "cell_type": "code",
   "execution_count": 361,
   "metadata": {},
   "outputs": [],
   "source": [
    "from selenium import webdriver\n",
    "from selenium.webdriver.chrome.options import Options\n",
    "from selenium.webdriver.common.keys import Keys\n",
    "\n",
    "chromedriver = \"/Applications/chromedriver\" # path to the chromedriver executable\n",
    "os.environ[\"webdriver.chrome.driver\"] = chromedriver"
   ]
  },
  {
   "cell_type": "code",
   "execution_count": 322,
   "metadata": {},
   "outputs": [],
   "source": [
    "from fake_useragent import UserAgent"
   ]
  },
  {
   "cell_type": "markdown",
   "metadata": {},
   "source": [
    "### Create Mongo collection for urls"
   ]
  },
  {
   "cell_type": "code",
   "execution_count": 4,
   "metadata": {},
   "outputs": [],
   "source": [
    "client = MongoClient()"
   ]
  },
  {
   "cell_type": "code",
   "execution_count": 5,
   "metadata": {},
   "outputs": [],
   "source": [
    "db = client['philadelphia_home_prices']"
   ]
  },
  {
   "cell_type": "code",
   "execution_count": 6,
   "metadata": {},
   "outputs": [
    {
     "data": {
      "text/plain": [
       "['prices_messy', 'listing_urls']"
      ]
     },
     "execution_count": 6,
     "metadata": {},
     "output_type": "execute_result"
    }
   ],
   "source": [
    "db.list_collection_names()"
   ]
  },
  {
   "cell_type": "code",
   "execution_count": 7,
   "metadata": {},
   "outputs": [
    {
     "data": {
      "text/plain": [
       "{'nIndexesWas': 1, 'ns': 'philadelphia_home_prices.listing_urls', 'ok': 1.0}"
      ]
     },
     "execution_count": 7,
     "metadata": {},
     "output_type": "execute_result"
    }
   ],
   "source": [
    "#uncomment to delete the collection\n",
    "#db.drop_collection('listing_urls')"
   ]
  },
  {
   "cell_type": "code",
   "execution_count": 8,
   "metadata": {},
   "outputs": [
    {
     "data": {
      "text/plain": [
       "['prices_messy']"
      ]
     },
     "execution_count": 8,
     "metadata": {},
     "output_type": "execute_result"
    }
   ],
   "source": [
    "db.list_collection_names()"
   ]
  },
  {
   "cell_type": "code",
   "execution_count": 9,
   "metadata": {},
   "outputs": [],
   "source": [
    "col = db.create_collection('listing_urls')"
   ]
  },
  {
   "cell_type": "code",
   "execution_count": 10,
   "metadata": {},
   "outputs": [
    {
     "data": {
      "text/plain": [
       "['prices_messy', 'listing_urls']"
      ]
     },
     "execution_count": 10,
     "metadata": {},
     "output_type": "execute_result"
    }
   ],
   "source": [
    "db.list_collection_names()"
   ]
  },
  {
   "cell_type": "markdown",
   "metadata": {},
   "source": [
    "### scrape pages for listing urls"
   ]
  },
  {
   "cell_type": "code",
   "execution_count": 11,
   "metadata": {},
   "outputs": [],
   "source": [
    "url = 'https://www.realtor.com/'"
   ]
  },
  {
   "cell_type": "code",
   "execution_count": 16,
   "metadata": {},
   "outputs": [],
   "source": [
    "# 44 listings per page. Choose start and stop page\n",
    "page_from = 21\n",
    "page_to = 25"
   ]
  },
  {
   "cell_type": "code",
   "execution_count": 13,
   "metadata": {},
   "outputs": [
    {
     "name": "stderr",
     "output_type": "stream",
     "text": [
      "/Users/chrismalasics/opt/anaconda3/lib/python3.7/site-packages/ipykernel_launcher.py:1: DeprecationWarning: count is deprecated. Use estimated_document_count or count_documents instead. Please note that $where must be replaced by $expr, $near must be replaced by $geoWithin with $center, and $nearSphere must be replaced by $geoWithin with $centerSphere\n",
      "  \"\"\"Entry point for launching an IPython kernel.\n"
     ]
    },
    {
     "data": {
      "text/plain": [
       "0"
      ]
     },
     "execution_count": 13,
     "metadata": {},
     "output_type": "execute_result"
    }
   ],
   "source": [
    "col.count()"
   ]
  },
  {
   "cell_type": "code",
   "execution_count": 17,
   "metadata": {},
   "outputs": [],
   "source": [
    "for i in range(page_from, page_to+1):\n",
    "    #print(i) #prints page that is open in case bot is detected\n",
    "    driver = webdriver.Chrome(chromedriver)\n",
    "    driver.get(url + 'soldhomeprices/Philadelphia_PA/pg-' + str(i))\n",
    "    \n",
    "    sleep(random.uniform(60,120))\n",
    "    \n",
    "    soup = BeautifulSoup(driver.page_source, 'html.parser')\n",
    "    page = str(soup.find_all('div', class_='photo-wrap'))\n",
    "    extensions = re.findall(r'[A-z]+-[A-z]+\\/[0-9-A-z]+[^\"]', page)\n",
    "    \n",
    "    if len(extensions) == 0:\n",
    "        print('bot is caught on page {}'.format(i))\n",
    "        break\n",
    "        \n",
    "    for i in extensions:\n",
    "        page_url = url + i\n",
    "        page = {'url': page_url}\n",
    "        col.insert_one(page)\n",
    "        \n",
    "    sleep(random.uniform(1,3))\n",
    "    \n",
    "    driver.close()"
   ]
  },
  {
   "cell_type": "code",
   "execution_count": 18,
   "metadata": {},
   "outputs": [
    {
     "name": "stderr",
     "output_type": "stream",
     "text": [
      "/Users/chrismalasics/opt/anaconda3/lib/python3.7/site-packages/ipykernel_launcher.py:1: DeprecationWarning: count is deprecated. Use estimated_document_count or count_documents instead. Please note that $where must be replaced by $expr, $near must be replaced by $geoWithin with $center, and $nearSphere must be replaced by $geoWithin with $centerSphere\n",
      "  \"\"\"Entry point for launching an IPython kernel.\n"
     ]
    },
    {
     "data": {
      "text/plain": [
       "1100"
      ]
     },
     "execution_count": 18,
     "metadata": {},
     "output_type": "execute_result"
    }
   ],
   "source": [
    "col.count()"
   ]
  },
  {
   "cell_type": "markdown",
   "metadata": {},
   "source": [
    "### Pull urls from mongoDB into memory"
   ]
  },
  {
   "cell_type": "code",
   "execution_count": 49,
   "metadata": {},
   "outputs": [],
   "source": [
    "#pull urls from mongo db\n",
    "cursor = db.listing_urls.find({})\n",
    "listings = list(cursor)"
   ]
  },
  {
   "cell_type": "code",
   "execution_count": 50,
   "metadata": {},
   "outputs": [],
   "source": [
    "#convert dictionary values to list\n",
    "listing_urls_list = []\n",
    "for i in listings:\n",
    "    url = i['url']\n",
    "    listing_urls_list.append(url)"
   ]
  },
  {
   "cell_type": "code",
   "execution_count": 51,
   "metadata": {},
   "outputs": [
    {
     "data": {
      "text/plain": [
       "['https://www.realtor.com/realestateandhomes-detail/1232-N-Mascher-St-Apt-A_Philadelphia_PA_19122_M49182-95881',\n",
       " 'https://www.realtor.com/realestateandhomes-detail/212-Carpenter-St-Rear-C_Philadelphia_PA_19147_M34206-29412',\n",
       " 'https://www.realtor.com/realestateandhomes-detail/1211-E-Cheltenham-Ave_Philadelphia_PA_19124_M33700-20336',\n",
       " 'https://www.realtor.com/realestateandhomes-detail/1002-Brandywine-St_Philadelphia_PA_19123_M39147-93479',\n",
       " 'https://www.realtor.com/realestateandhomes-detail/2607-N-31st-St_Philadelphia_PA_19132_M32883-74202']"
      ]
     },
     "execution_count": 51,
     "metadata": {},
     "output_type": "execute_result"
    }
   ],
   "source": [
    "#see first 5 in list\n",
    "listing_urls_list[0:5]"
   ]
  },
  {
   "cell_type": "markdown",
   "metadata": {},
   "source": [
    "### Get data from urls"
   ]
  },
  {
   "cell_type": "markdown",
   "metadata": {},
   "source": [
    "#### new collection for listing data"
   ]
  },
  {
   "cell_type": "code",
   "execution_count": 291,
   "metadata": {},
   "outputs": [],
   "source": [
    "col = db.create_collection('listing_data')"
   ]
  },
  {
   "cell_type": "code",
   "execution_count": 292,
   "metadata": {},
   "outputs": [
    {
     "name": "stderr",
     "output_type": "stream",
     "text": [
      "/Users/chrismalasics/opt/anaconda3/lib/python3.7/site-packages/ipykernel_launcher.py:1: DeprecationWarning: collection_names is deprecated. Use list_collection_names instead.\n",
      "  \"\"\"Entry point for launching an IPython kernel.\n"
     ]
    },
    {
     "data": {
      "text/plain": [
       "['prices_messy', 'listing_urls', 'listing_data']"
      ]
     },
     "execution_count": 292,
     "metadata": {},
     "output_type": "execute_result"
    }
   ],
   "source": [
    "db.collection_names()"
   ]
  },
  {
   "cell_type": "code",
   "execution_count": 293,
   "metadata": {},
   "outputs": [],
   "source": [
    "#uncomment to drop\n",
    "#db.drop_collection('listing_data')"
   ]
  },
  {
   "cell_type": "code",
   "execution_count": 294,
   "metadata": {},
   "outputs": [
    {
     "name": "stderr",
     "output_type": "stream",
     "text": [
      "/Users/chrismalasics/opt/anaconda3/lib/python3.7/site-packages/ipykernel_launcher.py:1: DeprecationWarning: collection_names is deprecated. Use list_collection_names instead.\n",
      "  \"\"\"Entry point for launching an IPython kernel.\n"
     ]
    },
    {
     "data": {
      "text/plain": [
       "['prices_messy', 'listing_urls', 'listing_data']"
      ]
     },
     "execution_count": 294,
     "metadata": {},
     "output_type": "execute_result"
    }
   ],
   "source": [
    "db.collection_names()"
   ]
  },
  {
   "cell_type": "code",
   "execution_count": 365,
   "metadata": {},
   "outputs": [],
   "source": [
    "listing_from = 25\n",
    "listing_to = len(listing_urls_list)\n",
    "listing_data = {}"
   ]
  },
  {
   "cell_type": "code",
   "execution_count": 366,
   "metadata": {},
   "outputs": [
    {
     "name": "stdout",
     "output_type": "stream",
     "text": [
      "25 https://www.realtor.com/realestateandhomes-detail/5254-N-Howard-St_Philadelphia_PA_19120_M35069-57480\n",
      "Mozilla/5.0 (Windows NT 6.2; WOW64) AppleWebKit/537.36 (KHTML, like Gecko) Chrome/27.0.1453.93 Safari/537.36\n"
     ]
    },
    {
     "name": "stderr",
     "output_type": "stream",
     "text": [
      "/Users/chrismalasics/opt/anaconda3/lib/python3.7/site-packages/ipykernel_launcher.py:36: DeprecationWarning: use options instead of chrome_options\n"
     ]
    },
    {
     "name": "stdout",
     "output_type": "stream",
     "text": [
      "{'Address': '5254 N Howard St,', 'Locality': 'Philadelphia', 'Region': 'PA', 'Postal Code': '19120', 'Price': ['161,650', '161,650', '161,650', '161,650', '161,650', '161,650', '161,650', '161,650', '161,650'], 'Days on Market': ['55'], 'SQFT House': ['1,230', '1,230', '1,230', '1,230'], 'SQFT Lot': ['1050', '1050'], 'Full Baths': ['2'], 'Half Baths': [], 'Bedrooms': ['3'], 'Garage': [], 'Master Bath': [], 'Cooling': [' Window Unit(s)'], 'Heating': [' Radiator'], 'Annual Tax': ['1307'], 'House Type': [' Interior Row/Townhouse'], 'Build Year': [' 1925', ' 1925'], 'Updated': [' 08/07/2020'], 'Neighborhood': ['OLNEY'], 'Neighborhood median sales': ['123,000'], 'Neighborhood Median DOM': ['67'], 'Neighborhood Price SQFT': ['113'], 'Association': ['No'], 'Association Monthly': ['0'], '_id': ObjectId('5f9b1a79329f96e5db63d285')}\n",
      "26 https://www.realtor.com/realestateandhomes-detail/1307-S-17th-St_Philadelphia_PA_19146_M39955-53546\n",
      "Mozilla/5.0 (Windows NT 6.1; WOW64; rv:21.0) Gecko/20100101 Firefox/21.0\n",
      "{'Address': '1307 S 17th St,', 'Locality': 'Philadelphia', 'Region': 'PA', 'Postal Code': '19146', 'Price': ['524,900', '524,900', '524,900', '524,900', '524,900', '524,900', '524,900', '524,900', '524,900'], 'Days on Market': ['84'], 'SQFT House': ['2,960', '2,960', '2,960', '2,960'], 'SQFT Lot': ['992', '992'], 'Full Baths': ['3'], 'Half Baths': [' 1'], 'Bedrooms': ['3'], 'Garage': [], 'Master Bath': [], 'Cooling': [' Central A/C'], 'Heating': [' Forced Air Heating'], 'Annual Tax': ['1015'], 'House Type': [' Interior Row/Townhouse'], 'Build Year': [' 2014', ' 2014'], 'Updated': [' 08/07/2020'], 'Neighborhood': ['POINT BREEZE'], 'Neighborhood median sales': ['345,000'], 'Neighborhood Median DOM': ['69'], 'Neighborhood Price SQFT': ['226'], 'Association': ['No'], 'Association Monthly': ['0'], '_id': ObjectId('5f9b1b2e329f96e5db63d286')}\n",
      "27 https://www.realtor.com/realestateandhomes-detail/2001-Hamilton-St-Apt-306_Philadelphia_PA_19130_M40688-89710\n",
      "Mozilla/5.0 (Windows NT 5.1) AppleWebKit/537.36 (KHTML, like Gecko) Chrome/31.0.1650.16 Safari/537.36\n",
      "{'Address': '2001 Hamilton St Apt 306,', 'Locality': 'Philadelphia', 'Region': 'PA', 'Postal Code': '19130', 'Price': ['470,000', '470,000', '470,000', '470,000', '470,000', '470,000', '470,000', '470,000', '470,000'], 'Days on Market': ['52'], 'SQFT House': ['1,331', '1,331', '1,331', '1,331'], 'SQFT Lot': [], 'Full Baths': ['2'], 'Half Baths': [], 'Bedrooms': ['2'], 'Garage': [' 1'], 'Master Bath': [], 'Cooling': [' Multi Units,'], 'Heating': [' Wall Unit Heating'], 'Annual Tax': ['5935'], 'House Type': [' Unit/Flat/Apartment'], 'Build Year': [' 1980', ' 1970'], 'Updated': [' 08/07/2020'], 'Neighborhood': ['ART MUSEUM AREA'], 'Neighborhood median sales': ['250,000'], 'Neighborhood Median DOM': ['63'], 'Neighborhood Price SQFT': ['195'], 'Association': ['No'], 'Association Monthly': ['823'], '_id': ObjectId('5f9b1bbc329f96e5db63d287')}\n",
      "28 https://www.realtor.com/realestateandhomes-detail/2046-W-Laurel-St-Unit-1_Philadelphia_PA_19123_M97809-07446\n",
      "Mozilla/5.0 (Macintosh; Intel Mac OS X 10.8; rv:21.0) Gecko/20100101 Firefox/21.0\n",
      "{'Address': '2046 W Laurel St Unit 1,', 'Locality': 'Philadelphia', 'Region': 'PA', 'Postal Code': '19123', 'Price': ['1,240,000', '1,240,000', '1,240,000', '1,240,000', '1,240,000', '1,240,000', '1,240,000', '1,240,000', '1,240,000'], 'Days on Market': ['223'], 'SQFT House': ['4,000', '4,000', '4,000', '4,000'], 'SQFT Lot': [], 'Full Baths': ['3'], 'Half Baths': [' 1'], 'Bedrooms': ['4'], 'Garage': [' 2'], 'Master Bath': [], 'Cooling': [' Central A/C,'], 'Heating': [' Forced Air Heating'], 'Annual Tax': ['3353'], 'House Type': [' Interior Row/Townhouse'], 'Build Year': [' 2015'], 'Updated': [], 'Neighborhood': ['NORTHERN LIBERTIES'], 'Neighborhood median sales': ['250,000'], 'Neighborhood Median DOM': ['63'], 'Neighborhood Price SQFT': ['195'], 'Association': ['Yes'], 'Association Monthly': ['104'], '_id': ObjectId('5f9b1c59329f96e5db63d288')}\n",
      "29 https://www.realtor.com/realestateandhomes-detail/1234-N-Mascher-St_Philadelphia_PA_19122_M48320-20122\n",
      "Mozilla/5.0 (Macintosh; Intel Mac OS X 10_7_5) AppleWebKit/537.36 (KHTML, like Gecko) Chrome/27.0.1453.93 Safari/537.36\n",
      "{'Address': '1234 N Mascher St,', 'Locality': 'Philadelphia', 'Region': 'PA', 'Postal Code': '19122', 'Price': ['575,000', '575,000', '575,000', '575,000', '575,000', '575,000', '575,000', '575,000', '575,000'], 'Days on Market': ['47'], 'SQFT House': ['2,158', '2,158', '2,158', '2,158'], 'SQFT Lot': ['1394', '1394'], 'Full Baths': ['3'], 'Half Baths': [' 1'], 'Bedrooms': ['4'], 'Garage': [], 'Master Bath': [], 'Cooling': [' Central A/C'], 'Heating': [' Central Heating'], 'Annual Tax': ['6393'], 'House Type': [' End of Row/Townhouse'], 'Build Year': [' 1920', ' 1920'], 'Updated': [' 08/07/2020'], 'Neighborhood': ['FISHTOWN'], 'Neighborhood median sales': ['250,000'], 'Neighborhood Median DOM': ['63'], 'Neighborhood Price SQFT': ['195'], 'Association': ['No'], 'Association Monthly': ['0'], '_id': ObjectId('5f9b1d14329f96e5db63d289')}\n",
      "30 https://www.realtor.com/realestateandhomes-detail/9562-James-St-A_Philadelphia_PA_19114_M38340-65756\n",
      "Mozilla/5.0 (Windows NT 6.1; rv:14.0) Gecko/20100101 Firefox/18.0.1\n",
      "{'Address': '9562 James St Unit A,', 'Locality': 'Philadelphia', 'Region': 'PA', 'Postal Code': '19114', 'Price': ['239,900', '239,900', '239,900', '239,900', '239,900', '239,900', '239,900', '239,900', '239,900'], 'Days on Market': ['66'], 'SQFT House': ['1,401', '1,401', '1,401', '1,401'], 'SQFT Lot': [], 'Full Baths': ['2'], 'Half Baths': [' 1'], 'Bedrooms': ['2'], 'Garage': [' 1'], 'Master Bath': [], 'Cooling': [' Central A/C'], 'Heating': [' Forced Air Heating'], 'Annual Tax': ['2119'], 'House Type': [' Twin/Semi-Detached'], 'Build Year': [' 1987'], 'Updated': [], 'Neighborhood': ['TORRESDALE MANOR'], 'Neighborhood median sales': ['263,949'], 'Neighborhood Median DOM': ['52'], 'Neighborhood Price SQFT': ['184'], 'Association': ['No'], 'Association Monthly': ['145'], '_id': ObjectId('5f9b1dd3329f96e5db63d28a')}\n",
      "31 https://www.realtor.com/realestateandhomes-detail/160018-Arch-St-Unit-703_Philadelphia_PA_19103_M96400-77110\n",
      "Mozilla/5.0 (Windows NT 5.1) AppleWebKit/537.36 (KHTML, like Gecko) Chrome/31.0.1650.16 Safari/537.36\n"
     ]
    },
    {
     "ename": "AttributeError",
     "evalue": "'NoneType' object has no attribute 'text'",
     "output_type": "error",
     "traceback": [
      "\u001b[0;31m---------------------------------------------------------------------------\u001b[0m",
      "\u001b[0;31mAttributeError\u001b[0m                            Traceback (most recent call last)",
      "\u001b[0;32m<ipython-input-366-f8b216bf302a>\u001b[0m in \u001b[0;36m<module>\u001b[0;34m\u001b[0m\n\u001b[1;32m     42\u001b[0m     \u001b[0msoup_to_str\u001b[0m \u001b[0;34m=\u001b[0m \u001b[0mstr\u001b[0m\u001b[0;34m(\u001b[0m\u001b[0msoup\u001b[0m\u001b[0;34m)\u001b[0m\u001b[0;34m\u001b[0m\u001b[0;34m\u001b[0m\u001b[0m\n\u001b[1;32m     43\u001b[0m \u001b[0;34m\u001b[0m\u001b[0m\n\u001b[0;32m---> 44\u001b[0;31m     \u001b[0mstreet_address\u001b[0m \u001b[0;34m=\u001b[0m \u001b[0;34m(\u001b[0m\u001b[0msoup\u001b[0m\u001b[0;34m.\u001b[0m\u001b[0mfind\u001b[0m\u001b[0;34m(\u001b[0m\u001b[0;34m'span'\u001b[0m\u001b[0;34m,\u001b[0m \u001b[0mitemprop\u001b[0m\u001b[0;34m=\u001b[0m\u001b[0;34m\"streetAddress\"\u001b[0m\u001b[0;34m)\u001b[0m\u001b[0;34m)\u001b[0m\u001b[0;34m.\u001b[0m\u001b[0mtext\u001b[0m\u001b[0;34m\u001b[0m\u001b[0;34m\u001b[0m\u001b[0m\n\u001b[0m\u001b[1;32m     45\u001b[0m     \u001b[0maddress_locality\u001b[0m \u001b[0;34m=\u001b[0m \u001b[0;34m(\u001b[0m\u001b[0msoup\u001b[0m\u001b[0;34m.\u001b[0m\u001b[0mfind\u001b[0m\u001b[0;34m(\u001b[0m\u001b[0;34m'span'\u001b[0m\u001b[0;34m,\u001b[0m \u001b[0mitemprop\u001b[0m\u001b[0;34m=\u001b[0m\u001b[0;34m\"addressLocality\"\u001b[0m\u001b[0;34m)\u001b[0m\u001b[0;34m)\u001b[0m\u001b[0;34m.\u001b[0m\u001b[0mtext\u001b[0m\u001b[0;34m\u001b[0m\u001b[0;34m\u001b[0m\u001b[0m\n\u001b[1;32m     46\u001b[0m     \u001b[0maddress_region\u001b[0m \u001b[0;34m=\u001b[0m \u001b[0;34m(\u001b[0m\u001b[0msoup\u001b[0m\u001b[0;34m.\u001b[0m\u001b[0mfind\u001b[0m\u001b[0;34m(\u001b[0m\u001b[0;34m'span'\u001b[0m\u001b[0;34m,\u001b[0m \u001b[0mitemprop\u001b[0m\u001b[0;34m=\u001b[0m\u001b[0;34m\"addressRegion\"\u001b[0m\u001b[0;34m)\u001b[0m\u001b[0;34m)\u001b[0m\u001b[0;34m.\u001b[0m\u001b[0mtext\u001b[0m\u001b[0;34m\u001b[0m\u001b[0;34m\u001b[0m\u001b[0m\n",
      "\u001b[0;31mAttributeError\u001b[0m: 'NoneType' object has no attribute 'text'"
     ]
    }
   ],
   "source": [
    "for i in range(listing_from, listing_to+1): \n",
    "    \n",
    "    print(i, listing_urls_list[i])\n",
    "    \n",
    "    #ua = UserAgent()\n",
    "    #user_agent = {'User-agent': ua.random}\n",
    "    #print(user_agent)\n",
    "\n",
    "    #response  = requests.get(listing_urls_list[i], headers = user_agent)\n",
    "    \n",
    "    #driver = webdriver.Chrome(chromedriver)\n",
    "    #driver.get(listing_urls_list[i])\n",
    "    \n",
    "    if i//5 == 0:\n",
    "        sleep(random.uniform(60,120))\n",
    "        \n",
    "    ####     \n",
    "    #session=requests.Session()\n",
    "    #session.headers = user_agent#{'User-Agent': ua.random} #'Mozilla/5.0 (X11; Linux x86_64) AppleWebKit/537.36 (KHTML, like Gecko) Chrome/47.0.2526.106 Safari/537.36'}\n",
    "    #print(user_agent)\n",
    "    ##base_url='https://www.realtor.com'\n",
    "    ##re_list=[]\n",
    "    ##realtor_default_count=44\n",
    "    ##page_counter=1\n",
    "    ##search_url=''.join([base_url, '/realestateandhomes-search/Sacramento_CA'])\n",
    "    #page=session.get(listing_urls_list[i])\n",
    "    #c=page.content\n",
    "    #soup=BeautifulSoup(c,\"html.parser\")\n",
    "    ####\n",
    "    \n",
    "    options = Options()\n",
    "    ua = UserAgent()\n",
    "    userAgent = ua.random\n",
    "    print(userAgent)\n",
    "    options.add_argument(f'user-agent={userAgent}')\n",
    "    driver = webdriver.Chrome(chrome_options=options, executable_path=chromedriver)\n",
    "    driver.get(listing_urls_list[i])\n",
    "\n",
    "    ###\n",
    "    \n",
    "    soup = BeautifulSoup(driver.page_source, 'html.parser')\n",
    "    soup_to_str = str(soup)\n",
    "    \n",
    "    street_address = (soup.find('span', itemprop=\"streetAddress\")).text\n",
    "    address_locality = (soup.find('span', itemprop=\"addressLocality\")).text\n",
    "    address_region = (soup.find('span', itemprop=\"addressRegion\")).text\n",
    "    postal_code = (soup.find('span', itemprop=\"postalCode\")).text\n",
    "\n",
    "    price = re.findall(r'(?<=Last Sold for \\$)\\d{0,3},{0,1}\\d{1,3},{0,1}\\d{1,3}', soup_to_str)\n",
    "    days_on_market = re.findall(r'(\\d{1,3})[\\s]*</div>\\n<span>Days on market', soup_to_str)\n",
    "    sqft_house = re.findall(r'(\\d{0,2},{0,1}\\d{3})</span>[<>\\s\\/A-z]+sq\\sft',soup_to_str)\n",
    "    sqft_lot = re.findall(r'lot_size\":([\\d.]+[^,])', soup_to_str)\n",
    "    full_bath = re.findall(r'Full\\s{1}Bathrooms:\\s{1}(\\d{1,2})',soup_to_str)\n",
    "    half_bath = re.findall(r'1\\/2\\sBathrooms:([0-9\\s]+[^<])',soup_to_str)\n",
    "    bedrooms = re.findall(r'Bedrooms:\\s{1}(\\d{1,2})',soup_to_str)\n",
    "    garage = re.findall(r'Garage\\sSpaces:([\\d\\s]+[^<])', soup_to_str)\n",
    "    master_bath = re.findall(r'Master\\sBath(s):\\s([A-Z\\s]+[^<])', soup_to_str)\n",
    "\n",
    "    cooling = re.findall(r'Cooling\\sFeatures:(\\s[A-z\\s\\/\\(\\)]+[^<])', soup_to_str)\n",
    "    heating = re.findall(r'Heating\\sFeatures:(\\s[A-z\\s\\/\\(\\)]+[^<])', soup_to_str)\n",
    "\n",
    "    annual_tax = re.findall(r'Annual Tax Amount:\\s(\\d{1,6}).', soup_to_str)\n",
    "    house_type = re.findall(r'Structure\\sType:([\\sA-z\\/-]+[^<])',soup_to_str)\n",
    "    built = re.findall(r'[Bb]uilt:(\\s+\\d+)', soup_to_str)\n",
    "    updated = re.findall(r'Date\\supdated:([0-9\\s\\/]+[^<])', soup_to_str)\n",
    "\n",
    "    neighborhood = re.findall(r'Source Neighborhood: ([A-z\\s]*)', soup_to_str)\n",
    "    neighborhood_median_sales = re.findall(r'(\\d{0,3},{0,1}\\d{0,3},{0,1}\\d{0,3})[\\D]*Median Sales Price', soup_to_str)\n",
    "    neighborhood_median_days_on_market = re.findall(r'(\\d{1,3})[\\D]*Median Days on Market', soup_to_str)\n",
    "    neighborhood_price_SQFT = re.findall(r'(\\d{0,3},{0,1}\\d{0,3})[\\D]*Price Per Sq Ft', soup_to_str)\n",
    "    association = re.findall(r'Association: ([A-z]{2,3})', soup_to_str)\n",
    "    association_monthly = re.findall(r'Monthly Association Fees:\\s(\\d{1,5})', soup_to_str)\n",
    "\n",
    "    listing_data = {'Address': street_address,\n",
    "                    'Locality': address_locality,\n",
    "                    'Region': address_region,\n",
    "                    'Postal Code': postal_code,\n",
    "                    'Price': price,\n",
    "                    'Days on Market': days_on_market,\n",
    "                    'SQFT House': sqft_house,\n",
    "                    'SQFT Lot': sqft_lot,\n",
    "                    'Full Baths': full_bath,\n",
    "                    'Half Baths': half_bath,\n",
    "                    'Bedrooms': bedrooms,\n",
    "                    'Garage': garage,\n",
    "                    'Master Bath': master_bath,\n",
    "                    'Cooling': cooling,\n",
    "                    'Heating': heating,\n",
    "                    'Annual Tax': annual_tax,\n",
    "                    'House Type': house_type,\n",
    "                    'Build Year': built,\n",
    "                    'Updated': updated,\n",
    "                    'Neighborhood': neighborhood,\n",
    "                    'Neighborhood median sales': neighborhood_median_sales,\n",
    "                    'Neighborhood Median DOM' : neighborhood_median_days_on_market,\n",
    "                    'Neighborhood Price SQFT': neighborhood_price_SQFT,\n",
    "                    'Association': association,\n",
    "                    'Association Monthly': association_monthly}\n",
    "\n",
    "    driver.close()\n",
    "    \n",
    "    #insert listing data into mongo database\n",
    "    col.insert_one(listing_data)\n",
    "    print(listing_data)\n",
    "    \n",
    "    sleep(random.uniform(120,180)) #pause"
   ]
  },
  {
   "cell_type": "code",
   "execution_count": null,
   "metadata": {},
   "outputs": [],
   "source": [
    "len(extensions)"
   ]
  },
  {
   "cell_type": "code",
   "execution_count": null,
   "metadata": {},
   "outputs": [],
   "source": [
    "listing_url_page1"
   ]
  },
  {
   "cell_type": "code",
   "execution_count": null,
   "metadata": {},
   "outputs": [],
   "source": [
    "listings"
   ]
  },
  {
   "cell_type": "code",
   "execution_count": null,
   "metadata": {
    "scrolled": false
   },
   "outputs": [],
   "source": [
    "soup_to_str"
   ]
  },
  {
   "cell_type": "code",
   "execution_count": null,
   "metadata": {},
   "outputs": [],
   "source": [
    "listing_url_page1"
   ]
  },
  {
   "cell_type": "code",
   "execution_count": null,
   "metadata": {},
   "outputs": [],
   "source": [
    "driver.page_source(:1000)"
   ]
  },
  {
   "cell_type": "code",
   "execution_count": null,
   "metadata": {},
   "outputs": [],
   "source": [
    "my_randoms = random.sample(range(44), 3)"
   ]
  },
  {
   "cell_type": "code",
   "execution_count": null,
   "metadata": {},
   "outputs": [],
   "source": [
    "my_randoms"
   ]
  },
  {
   "cell_type": "code",
   "execution_count": null,
   "metadata": {},
   "outputs": [],
   "source": [
    "rand"
   ]
  },
  {
   "cell_type": "code",
   "execution_count": null,
   "metadata": {},
   "outputs": [],
   "source": [
    "extensions"
   ]
  },
  {
   "cell_type": "code",
   "execution_count": null,
   "metadata": {},
   "outputs": [],
   "source": [
    "url"
   ]
  },
  {
   "cell_type": "code",
   "execution_count": null,
   "metadata": {},
   "outputs": [],
   "source": [
    "re.search(r'Cooling\\sFeatures:\\s[A-z\\s\\/,]+[^<]', soup_to_str)"
   ]
  },
  {
   "cell_type": "code",
   "execution_count": null,
   "metadata": {},
   "outputs": [],
   "source": [
    "re.findall(r'Heating\\sFeatures:\\s[A-z\\s,-]+[^<]', soup_to_str)"
   ]
  },
  {
   "cell_type": "code",
   "execution_count": null,
   "metadata": {},
   "outputs": [],
   "source": [
    "extensions[0]"
   ]
  },
  {
   "cell_type": "raw",
   "metadata": {},
   "source": [
    "Notes:\n",
    "need to use regex to find square footage\n",
    "need to delete string after parsing\n",
    "need to try to pull different pages\n",
    "search random listings for weird data that might not be in cheaper listings(parking spaces, garage...)\n",
    "HOA\n"
   ]
  },
  {
   "cell_type": "code",
   "execution_count": null,
   "metadata": {},
   "outputs": [],
   "source": [
    "(soup.find('span', class_='data-price')).text"
   ]
  },
  {
   "cell_type": "code",
   "execution_count": null,
   "metadata": {},
   "outputs": [],
   "source": [
    "soup.find('span', class_='data-price')"
   ]
  },
  {
   "cell_type": "code",
   "execution_count": null,
   "metadata": {},
   "outputs": [],
   "source": [
    "soup"
   ]
  },
  {
   "cell_type": "code",
   "execution_count": 314,
   "metadata": {},
   "outputs": [
    {
     "data": {
      "text/plain": [
       "['https://www.realtor.com/realestateandhomes-detail/1232-N-Mascher-St-Apt-A_Philadelphia_PA_19122_M49182-95881',\n",
       " 'https://www.realtor.com/realestateandhomes-detail/212-Carpenter-St-Rear-C_Philadelphia_PA_19147_M34206-29412',\n",
       " 'https://www.realtor.com/realestateandhomes-detail/1211-E-Cheltenham-Ave_Philadelphia_PA_19124_M33700-20336',\n",
       " 'https://www.realtor.com/realestateandhomes-detail/1002-Brandywine-St_Philadelphia_PA_19123_M39147-93479',\n",
       " 'https://www.realtor.com/realestateandhomes-detail/2607-N-31st-St_Philadelphia_PA_19132_M32883-74202']"
      ]
     },
     "execution_count": 314,
     "metadata": {},
     "output_type": "execute_result"
    }
   ],
   "source": [
    "listing_urls_list[0:5]"
   ]
  },
  {
   "cell_type": "code",
   "execution_count": null,
   "metadata": {},
   "outputs": [],
   "source": []
  }
 ],
 "metadata": {
  "kernelspec": {
   "display_name": "Python 3",
   "language": "python",
   "name": "python3"
  },
  "language_info": {
   "codemirror_mode": {
    "name": "ipython",
    "version": 3
   },
   "file_extension": ".py",
   "mimetype": "text/x-python",
   "name": "python",
   "nbconvert_exporter": "python",
   "pygments_lexer": "ipython3",
   "version": "3.7.4"
  }
 },
 "nbformat": 4,
 "nbformat_minor": 2
}
