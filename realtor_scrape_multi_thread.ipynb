{
 "cells": [
  {
   "cell_type": "code",
   "execution_count": 97,
   "metadata": {},
   "outputs": [],
   "source": [
    "import os\n",
    "from bs4 import BeautifulSoup\n",
    "from time import sleep\n",
    "from pymongo import MongoClient\n",
    "from pprint import pprint\n",
    "import concurrent.futures\n",
    "import random\n",
    "from copy import deepcopy"
   ]
  },
  {
   "cell_type": "code",
   "execution_count": 4,
   "metadata": {},
   "outputs": [],
   "source": [
    "from selenium import webdriver\n",
    "from selenium.webdriver.chrome.options import Options\n",
    "from selenium.webdriver.common.keys import Keys\n",
    "\n",
    "chromedriver = \"/Applications/chromedriver\" # path to the chromedriver executable\n",
    "os.environ[\"webdriver.chrome.driver\"] = chromedriver"
   ]
  },
  {
   "cell_type": "code",
   "execution_count": 42,
   "metadata": {},
   "outputs": [],
   "source": [
    "#helper files\n",
    "import get_proxies as proxies\n",
    "from extractors import get_data "
   ]
  },
  {
   "cell_type": "markdown",
   "metadata": {},
   "source": [
    "#### Pull listing_url documents from mongoDB"
   ]
  },
  {
   "cell_type": "code",
   "execution_count": 6,
   "metadata": {},
   "outputs": [],
   "source": [
    "db = MongoClient().get_database('philadelphia_home_prices')"
   ]
  },
  {
   "cell_type": "code",
   "execution_count": 7,
   "metadata": {},
   "outputs": [],
   "source": [
    "col = db.get_collection('listing_urls')"
   ]
  },
  {
   "cell_type": "code",
   "execution_count": 8,
   "metadata": {},
   "outputs": [],
   "source": [
    "cursor = db.listing_urls.find({})\n",
    "listings = list(cursor)"
   ]
  },
  {
   "cell_type": "code",
   "execution_count": 94,
   "metadata": {},
   "outputs": [],
   "source": [
    "#convert dictionary values to list\n",
    "listing_urls_list = []\n",
    "for i in listings:\n",
    "    url = i['url']\n",
    "    listing_urls_list.append(url)"
   ]
  },
  {
   "cell_type": "code",
   "execution_count": 10,
   "metadata": {},
   "outputs": [
    {
     "data": {
      "text/plain": [
       "['https://www.realtor.com/realestateandhomes-detail/1232-N-Mascher-St-Apt-A_Philadelphia_PA_19122_M49182-95881',\n",
       " 'https://www.realtor.com/realestateandhomes-detail/212-Carpenter-St-Rear-C_Philadelphia_PA_19147_M34206-29412',\n",
       " 'https://www.realtor.com/realestateandhomes-detail/1211-E-Cheltenham-Ave_Philadelphia_PA_19124_M33700-20336',\n",
       " 'https://www.realtor.com/realestateandhomes-detail/1002-Brandywine-St_Philadelphia_PA_19123_M39147-93479',\n",
       " 'https://www.realtor.com/realestateandhomes-detail/2607-N-31st-St_Philadelphia_PA_19132_M32883-74202']"
      ]
     },
     "execution_count": 10,
     "metadata": {},
     "output_type": "execute_result"
    }
   ],
   "source": [
    "#check first 5 in list\n",
    "listing_urls_list[0:5]"
   ]
  },
  {
   "cell_type": "markdown",
   "metadata": {},
   "source": [
    "#### New collection for listing data"
   ]
  },
  {
   "cell_type": "code",
   "execution_count": 93,
   "metadata": {},
   "outputs": [
    {
     "data": {
      "text/plain": [
       "['prices_messy', 'listing_data', 'listing_urls']"
      ]
     },
     "execution_count": 93,
     "metadata": {},
     "output_type": "execute_result"
    }
   ],
   "source": [
    "db.list_collection_names()"
   ]
  },
  {
   "cell_type": "code",
   "execution_count": 12,
   "metadata": {},
   "outputs": [
    {
     "data": {
      "text/plain": [
       "Collection(Database(MongoClient(host=['localhost:27017'], document_class=dict, tz_aware=False, connect=True), 'philadelphia_home_prices'), 'listing_data')"
      ]
     },
     "execution_count": 12,
     "metadata": {},
     "output_type": "execute_result"
    }
   ],
   "source": [
    "#uncomment the code you need to use\n",
    "#db.drop_collection('listing_data')\n",
    "#db.create_collection('listing_data')"
   ]
  },
  {
   "cell_type": "code",
   "execution_count": 13,
   "metadata": {},
   "outputs": [],
   "source": [
    "col = db.get_collection('listing_data')"
   ]
  },
  {
   "cell_type": "code",
   "execution_count": 14,
   "metadata": {},
   "outputs": [
    {
     "data": {
      "text/plain": [
       "0"
      ]
     },
     "execution_count": 14,
     "metadata": {},
     "output_type": "execute_result"
    }
   ],
   "source": [
    "col.count_documents({})"
   ]
  },
  {
   "cell_type": "markdown",
   "metadata": {},
   "source": [
    "#### Get free proxies from https://free-proxy-list.net/"
   ]
  },
  {
   "cell_type": "code",
   "execution_count": 15,
   "metadata": {},
   "outputs": [
    {
     "name": "stderr",
     "output_type": "stream",
     "text": [
      "2020-11-04 17:11:11,831 root   DEBUG    === Initialized Proxy Parsers ===\n",
      "2020-11-04 17:11:11,832 root   DEBUG    \t FreeProxy parser of 'http://free-proxy-list.net' with required bandwidth: '150' KBs\n",
      "2020-11-04 17:11:11,833 root   DEBUG    \t PremProxy parser of 'https://premproxy.com/list/' with required bandwidth: '150' KBs\n",
      "2020-11-04 17:11:11,833 root   DEBUG    =================================\n",
      "2020-11-04 17:11:12,247 root   DEBUG    Added 300 proxies from FreeProxy\n",
      "2020-11-04 17:11:12,809 http_request_randomizer.requests.parsers.PremProxyParser DEBUG    Pages: {'', '06.htm', '05.htm', '02.htm', '08.htm', '03.htm', '07.htm', '04.htm'}\n",
      "2020-11-04 17:11:13,355 http_request_randomizer.requests.parsers.js.UnPacker INFO     JS UnPacker init path: https://premproxy.com/js/d9afb.js\n",
      "2020-11-04 17:11:13,884 http_request_randomizer.requests.parsers.js.UnPacker DEBUG    portmap: {'r7974': '32108', 'r7d7a': '8080', 're822': '999', 'r90ea': '47464', 'r366e': '53281', 'rf7d9': '3128', 'rdd9a': '80', 'r2493': '8081', 'raa3d': '53597', 'ra8ef': '37738', 'r772f': '47362', 'r169a': '51915', 'r6cd4': '3130', 'r443a': '8181', 'rb9b2': '32231', 'r2439': '57797', 'r6386': '55830', 'r0794': '33630', 'rd250': '59152', 'r422b': '43388', 'r3e5b': '65205', 'r37c8': '54468', 'r9f41': '23500', 'r392f': '54567', 'rc080': '45521', 're677': '31932', 'rd9a3': '39150', 'rba3b': '41310', 'r4fd8': '1080', 'rd127': '88', 'r21d2': '56861', 'r24fa': '34403', 'r9898': '63141', 'rf5ac': '41003', 'rc87c': '3129', 'r204c': '55443', 'rd59a': '50991', 'r1324': '2004', 're7f7': '38525', 'r5a60': '44612', 'rffdb': '3838', 'r5acb': '60030', 'r61a8': '8009', 'rc3bb': '6666', 'r3557': '8024', 'r5147': '8888', 're017': '8118', 'r2da1': '41989', 'r3a4e': '51489', 'rc8ff': '61279', 'rdd4a': '41701', 'r5efa': '54621', 'r0575': '51142', 'r5d2f': '83', 'r6841': '31475', 'rccca': '43031', 'rbc11': '5836', 'rf5a6': '55725', 'r1d68': '58332', 'r53b8': '32052', 'r4cb2': '33741', 'r2f5f': '43856', 'rfce3': '1234', 'raea7': '33486', 'r089b': '1973', 'rad9d': '9999', 'r7e54': '47385', 'rc1fd': '60792', 'r47e7': '48515', 'r78f4': '31398', 'r9acb': '45282', 'r4054': '38057', 'r6512': '45820', 'rb420': '43631', 'rf56d': '2103', 'rf270': '2105', 'r2cde': '47744', 'rb538': '46340', 'r4907': '58136', 'r7e9a': '38081', 'r415e': '50330', 'ra273': '50782', 'r4f32': '55993', 'ra745': '44061', 'r59a7': '36739', 'r5228': '8086', 'r04cb': '53394', 'r8fbb': '56975', 'r6756': '443', 'r8440': '30695', 'rbb27': '48214', 'rc082': '1976', 'r5c50': '33855', 'radcb': '34638', 'r35c3': '9299', 'reb3e': '41209', 'r2097': '4576', 'r407c': '38473', 'r904f': '43496', 'rf20a': '47504'}\n",
      "2020-11-04 17:11:18,382 root   DEBUG    Added 332 proxies from PremProxy\n",
      "2020-11-04 17:11:18,383 root   DEBUG    Total proxies = 632\n",
      "2020-11-04 17:11:18,384 root   DEBUG    Filtered proxies = 632\n"
     ]
    }
   ],
   "source": [
    "#call function to get list of proxies\n",
    "proxies_address = proxies.proxy_list();"
   ]
  },
  {
   "cell_type": "markdown",
   "metadata": {},
   "source": [
    "#### Pick which urls in list by index"
   ]
  },
  {
   "cell_type": "code",
   "execution_count": 16,
   "metadata": {},
   "outputs": [],
   "source": [
    "listing_from = 0\n",
    "listing_to = len(listing_urls_list)\n",
    "broken_urls = []"
   ]
  },
  {
   "cell_type": "code",
   "execution_count": 99,
   "metadata": {},
   "outputs": [],
   "source": [
    "#only run once\n",
    "remaining_listing_urls_list = deepcopy(listing_urls_list)"
   ]
  },
  {
   "cell_type": "code",
   "execution_count": 100,
   "metadata": {},
   "outputs": [],
   "source": [
    "def scrape(urls):\n",
    "    listing_data = {}\n",
    "    #while len(remaining_listing_urls_list) > =:\n",
    "    try:\n",
    "        PROXY = random.choice(proxies_address)\n",
    "        webdriver.DesiredCapabilities.CHROME['proxy']={\"httpProxy\":PROXY,\n",
    "                                                       \"ftpProxy\":PROXY,\n",
    "                                                       \"sslProxy\":PROXY,\n",
    "                                                       \"proxyType\":\"MANUAL\",}\n",
    "\n",
    "        driver = webdriver.Chrome(chromedriver)\n",
    "        url = random.choice(remaining_listing_urls_list)\n",
    "        driver.get(url)\n",
    "\n",
    "        soup = BeautifulSoup(driver.page_source, 'html.parser')\n",
    "        listing_data = get_data(soup)\n",
    "\n",
    "        #will skip and move url to bad_urls if the page format is different than expected\n",
    "        if listing_data['Address'] == 'Not Found':\n",
    "            bad_urls.append(url)\n",
    "            remaining_listing_urls_list.remove(url)\n",
    "        else:\n",
    "            remaining_listing_urls_list.remove(url)\n",
    "    \n",
    "    except:\n",
    "        print('except ran, bad proxy')\n",
    "        proxies_address.remove(PROXY)\n",
    "        print(len(proxies_address))\n",
    "    \n",
    "    col.insert_one(listing_data)\n",
    "    \n",
    "    driver.close()\n",
    "    \n",
    "    return listing_data"
   ]
  },
  {
   "cell_type": "code",
   "execution_count": null,
   "metadata": {},
   "outputs": [],
   "source": [
    "# to us concurrent.furtures for multi-threading\n",
    "def main():\n",
    "    with concurrent.futures.ProcessPoolExecutor() as executor:\n",
    "        for number, prime in zip(PRIMES, executor.map(is_prime, PRIMES)):"
   ]
  },
  {
   "cell_type": "code",
   "execution_count": null,
   "metadata": {},
   "outputs": [],
   "source": []
  },
  {
   "cell_type": "code",
   "execution_count": null,
   "metadata": {},
   "outputs": [],
   "source": []
  },
  {
   "cell_type": "code",
   "execution_count": null,
   "metadata": {},
   "outputs": [],
   "source": []
  },
  {
   "cell_type": "code",
   "execution_count": null,
   "metadata": {},
   "outputs": [],
   "source": []
  },
  {
   "cell_type": "code",
   "execution_count": 104,
   "metadata": {},
   "outputs": [
    {
     "name": "stderr",
     "output_type": "stream",
     "text": [
      "2020-11-04 19:21:06,222 selenium.webdriver.remote.remote_connection DEBUG    POST http://127.0.0.1:52894/session {\"capabilities\": {\"firstMatch\": [{}], \"alwaysMatch\": {\"browserName\": \"chrome\", \"platformName\": \"any\", \"proxy\": {\"httpProxy\": \"200.35.56.161:35945\", \"ftpProxy\": \"200.35.56.161:35945\", \"sslProxy\": \"200.35.56.161:35945\", \"proxyType\": \"manual\"}, \"goog:chromeOptions\": {\"extensions\": [], \"args\": []}}}, \"desiredCapabilities\": {\"browserName\": \"chrome\", \"version\": \"\", \"platform\": \"ANY\", \"proxy\": {\"httpProxy\": \"200.35.56.161:35945\", \"ftpProxy\": \"200.35.56.161:35945\", \"sslProxy\": \"200.35.56.161:35945\", \"proxyType\": \"MANUAL\"}, \"goog:chromeOptions\": {\"extensions\": [], \"args\": []}}}\n",
      "2020-11-04 19:21:07,279 selenium.webdriver.remote.remote_connection DEBUG    Finished Request\n",
      "2020-11-04 19:21:07,281 selenium.webdriver.remote.remote_connection DEBUG    POST http://127.0.0.1:52894/session/64af112df5e64778f8a1d42efbd6dd69/url {\"url\": \"https://www.realtor.com/realestateandhomes-detail/1600-Wallace-St_Philadelphia_PA_19130_M42439-74584\"}\n"
     ]
    },
    {
     "name": "stdout",
     "output_type": "stream",
     "text": [
      "https://www.realtor.com/realestateandhomes-detail/1600-Wallace-St_Philadelphia_PA_19130_M42439-74584\n"
     ]
    },
    {
     "name": "stderr",
     "output_type": "stream",
     "text": [
      "2020-11-04 19:21:37,327 selenium.webdriver.remote.remote_connection DEBUG    Finished Request\n",
      "2020-11-04 19:21:37,327 selenium.webdriver.remote.remote_connection DEBUG    GET http://127.0.0.1:52894/session/64af112df5e64778f8a1d42efbd6dd69/source {}\n",
      "2020-11-04 19:21:37,353 selenium.webdriver.remote.remote_connection DEBUG    Finished Request\n",
      "2020-11-04 19:21:37,363 selenium.webdriver.remote.remote_connection DEBUG    DELETE http://127.0.0.1:52894/session/64af112df5e64778f8a1d42efbd6dd69/window {}\n",
      "2020-11-04 19:21:37,425 selenium.webdriver.remote.remote_connection DEBUG    Finished Request\n"
     ]
    },
    {
     "name": "stdout",
     "output_type": "stream",
     "text": [
      "except ran, bad proxy\n",
      "601\n",
      "0\n",
      "{}\n"
     ]
    },
    {
     "name": "stderr",
     "output_type": "stream",
     "text": [
      "2020-11-04 19:21:38,449 selenium.webdriver.remote.remote_connection DEBUG    POST http://127.0.0.1:52918/session {\"capabilities\": {\"firstMatch\": [{}], \"alwaysMatch\": {\"browserName\": \"chrome\", \"platformName\": \"any\", \"proxy\": {\"httpProxy\": \"85.238.167.170:51915\", \"ftpProxy\": \"85.238.167.170:51915\", \"sslProxy\": \"85.238.167.170:51915\", \"proxyType\": \"manual\"}, \"goog:chromeOptions\": {\"extensions\": [], \"args\": []}}}, \"desiredCapabilities\": {\"browserName\": \"chrome\", \"version\": \"\", \"platform\": \"ANY\", \"proxy\": {\"httpProxy\": \"85.238.167.170:51915\", \"ftpProxy\": \"85.238.167.170:51915\", \"sslProxy\": \"85.238.167.170:51915\", \"proxyType\": \"MANUAL\"}, \"goog:chromeOptions\": {\"extensions\": [], \"args\": []}}}\n",
      "2020-11-04 19:21:39,417 selenium.webdriver.remote.remote_connection DEBUG    Finished Request\n",
      "2020-11-04 19:21:39,425 selenium.webdriver.remote.remote_connection DEBUG    POST http://127.0.0.1:52918/session/9fce1392e8d617adf6bb4a49487c5ecc/url {\"url\": \"https://www.realtor.com/realestateandhomes-detail/2224-W-Montgomery-Ave_Philadelphia_PA_19121_M95943-60692\"}\n"
     ]
    },
    {
     "name": "stdout",
     "output_type": "stream",
     "text": [
      "https://www.realtor.com/realestateandhomes-detail/2224-W-Montgomery-Ave_Philadelphia_PA_19121_M95943-60692\n"
     ]
    },
    {
     "name": "stderr",
     "output_type": "stream",
     "text": [
      "2020-11-04 19:24:12,559 selenium.webdriver.remote.remote_connection DEBUG    Finished Request\n",
      "2020-11-04 19:24:12,560 selenium.webdriver.remote.remote_connection DEBUG    GET http://127.0.0.1:52918/session/9fce1392e8d617adf6bb4a49487c5ecc/source {}\n",
      "2020-11-04 19:24:12,604 selenium.webdriver.remote.remote_connection DEBUG    Finished Request\n",
      "2020-11-04 19:24:16,907 selenium.webdriver.remote.remote_connection DEBUG    DELETE http://127.0.0.1:52918/session/9fce1392e8d617adf6bb4a49487c5ecc/window {}\n",
      "2020-11-04 19:24:16,961 selenium.webdriver.remote.remote_connection DEBUG    Finished Request\n"
     ]
    },
    {
     "name": "stdout",
     "output_type": "stream",
     "text": [
      "1\n",
      "{'Address': '2224 W Montgomery Ave,', 'Locality': 'Philadelphia', 'Region': 'PA', 'Postal Code': '19121', 'Price': ['200,000', '200,000', '200,000', '200,000', '200,000', '200,000'], 'Days on Market': ['73'], 'SQFT House': ['2,550', '2,550'], 'SQFT Lot': [], 'Full Baths': [], 'Half Baths': [], 'Bedrooms': ['0'], 'Garage': [], 'Master Bath': [], 'Cooling': [' Central A/C'], 'Heating': [' Forced Air Heating'], 'Annual Tax': ['2167'], 'House Type': [' Interior Row/Townhouse'], 'Build Year': [' 1915'], 'Updated': [], 'Neighborhood': ['PHILADELPHIA'], 'Neighborhood median sales': ['238,450'], 'Neighborhood Median DOM': ['143'], 'Neighborhood Price SQFT': ['168'], 'Association': [], 'Association Monthly': [], 'crawl time': datetime.datetime(2020, 11, 4, 19, 24, 16, 907162)}\n"
     ]
    },
    {
     "name": "stderr",
     "output_type": "stream",
     "text": [
      "2020-11-04 19:24:17,983 selenium.webdriver.remote.remote_connection DEBUG    POST http://127.0.0.1:53139/session {\"capabilities\": {\"firstMatch\": [{}], \"alwaysMatch\": {\"browserName\": \"chrome\", \"platformName\": \"any\", \"proxy\": {\"httpProxy\": \"91.211.172.38:8080\", \"ftpProxy\": \"91.211.172.38:8080\", \"sslProxy\": \"91.211.172.38:8080\", \"proxyType\": \"manual\"}, \"goog:chromeOptions\": {\"extensions\": [], \"args\": []}}}, \"desiredCapabilities\": {\"browserName\": \"chrome\", \"version\": \"\", \"platform\": \"ANY\", \"proxy\": {\"httpProxy\": \"91.211.172.38:8080\", \"ftpProxy\": \"91.211.172.38:8080\", \"sslProxy\": \"91.211.172.38:8080\", \"proxyType\": \"MANUAL\"}, \"goog:chromeOptions\": {\"extensions\": [], \"args\": []}}}\n",
      "2020-11-04 19:24:18,957 selenium.webdriver.remote.remote_connection DEBUG    Finished Request\n",
      "2020-11-04 19:24:18,959 selenium.webdriver.remote.remote_connection DEBUG    POST http://127.0.0.1:53139/session/f67254ca6806e8e096d67790f8b5feab/url {\"url\": \"https://www.realtor.com/realestateandhomes-detail/2513-E-Gordon-St_Philadelphia_PA_19125_M47375-65479\"}\n"
     ]
    },
    {
     "name": "stdout",
     "output_type": "stream",
     "text": [
      "https://www.realtor.com/realestateandhomes-detail/2513-E-Gordon-St_Philadelphia_PA_19125_M47375-65479\n"
     ]
    },
    {
     "name": "stderr",
     "output_type": "stream",
     "text": [
      "2020-11-04 19:26:26,997 selenium.webdriver.remote.remote_connection DEBUG    Finished Request\n",
      "2020-11-04 19:26:26,998 selenium.webdriver.remote.remote_connection DEBUG    GET http://127.0.0.1:53139/session/f67254ca6806e8e096d67790f8b5feab/source {}\n",
      "2020-11-04 19:26:27,061 selenium.webdriver.remote.remote_connection DEBUG    Finished Request\n",
      "2020-11-04 19:26:31,448 selenium.webdriver.remote.remote_connection DEBUG    DELETE http://127.0.0.1:53139/session/f67254ca6806e8e096d67790f8b5feab/window {}\n",
      "2020-11-04 19:26:31,506 selenium.webdriver.remote.remote_connection DEBUG    Finished Request\n"
     ]
    },
    {
     "name": "stdout",
     "output_type": "stream",
     "text": [
      "2\n",
      "{'Address': '2513 E Gordon St,', 'Locality': 'Philadelphia', 'Region': 'PA', 'Postal Code': '19125', 'Price': ['260,500', '260,500', '260,500', '260,500', '260,500', '260,500', '260,500', '260,500'], 'Days on Market': ['67'], 'SQFT House': ['800', '800', '800', '800'], 'SQFT Lot': ['556', '556'], 'Full Baths': ['1'], 'Half Baths': [' 1'], 'Bedrooms': ['2'], 'Garage': [], 'Master Bath': [], 'Cooling': [' Central A/C'], 'Heating': [' Central Heating'], 'Annual Tax': ['3369'], 'House Type': [' Interior Row/Townhouse'], 'Build Year': [' 1918', ' 1875'], 'Updated': [' 08/07/2020'], 'Neighborhood': ['FISHTOWN'], 'Neighborhood median sales': ['365,000'], 'Neighborhood Median DOM': ['56'], 'Neighborhood Price SQFT': ['268'], 'Association': ['No'], 'Association Monthly': ['0'], 'crawl time': datetime.datetime(2020, 11, 4, 19, 26, 31, 448546)}\n"
     ]
    },
    {
     "name": "stderr",
     "output_type": "stream",
     "text": [
      "2020-11-04 19:26:32,526 selenium.webdriver.remote.remote_connection DEBUG    POST http://127.0.0.1:53279/session {\"capabilities\": {\"firstMatch\": [{}], \"alwaysMatch\": {\"browserName\": \"chrome\", \"platformName\": \"any\", \"proxy\": {\"httpProxy\": \"128.199.232.137:8118\", \"ftpProxy\": \"128.199.232.137:8118\", \"sslProxy\": \"128.199.232.137:8118\", \"proxyType\": \"manual\"}, \"goog:chromeOptions\": {\"extensions\": [], \"args\": []}}}, \"desiredCapabilities\": {\"browserName\": \"chrome\", \"version\": \"\", \"platform\": \"ANY\", \"proxy\": {\"httpProxy\": \"128.199.232.137:8118\", \"ftpProxy\": \"128.199.232.137:8118\", \"sslProxy\": \"128.199.232.137:8118\", \"proxyType\": \"MANUAL\"}, \"goog:chromeOptions\": {\"extensions\": [], \"args\": []}}}\n",
      "2020-11-04 19:26:33,599 selenium.webdriver.remote.remote_connection DEBUG    Finished Request\n",
      "2020-11-04 19:26:33,601 selenium.webdriver.remote.remote_connection DEBUG    POST http://127.0.0.1:53279/session/8d7f6e11dd6084e351bde1977e90246f/url {\"url\": \"https://www.realtor.com/realestateandhomes-detail/4152-N-8th-St_Philadelphia_PA_19140_M49080-07854\"}\n"
     ]
    },
    {
     "name": "stdout",
     "output_type": "stream",
     "text": [
      "https://www.realtor.com/realestateandhomes-detail/4152-N-8th-St_Philadelphia_PA_19140_M49080-07854\n"
     ]
    },
    {
     "name": "stderr",
     "output_type": "stream",
     "text": [
      "2020-11-04 19:26:41,947 selenium.webdriver.remote.remote_connection DEBUG    Finished Request\n",
      "2020-11-04 19:26:41,948 selenium.webdriver.remote.remote_connection DEBUG    GET http://127.0.0.1:53279/session/8d7f6e11dd6084e351bde1977e90246f/source {}\n",
      "2020-11-04 19:26:41,991 selenium.webdriver.remote.remote_connection DEBUG    Finished Request\n",
      "2020-11-04 19:26:46,456 selenium.webdriver.remote.remote_connection DEBUG    DELETE http://127.0.0.1:53279/session/8d7f6e11dd6084e351bde1977e90246f/window {}\n",
      "2020-11-04 19:26:46,510 selenium.webdriver.remote.remote_connection DEBUG    Finished Request\n"
     ]
    },
    {
     "name": "stdout",
     "output_type": "stream",
     "text": [
      "3\n",
      "{'Address': '4152 N 8th St,', 'Locality': 'Philadelphia', 'Region': 'PA', 'Postal Code': '19140', 'Price': ['57,000', '57,000', '57,000', '57,000', '57,000', '57,000', '57,000', '57,000'], 'Days on Market': ['27'], 'SQFT House': ['1,062', '1,062', '1,062', '1,062'], 'SQFT Lot': ['788', '788'], 'Full Baths': ['1'], 'Half Baths': [], 'Bedrooms': ['3'], 'Garage': [], 'Master Bath': [], 'Cooling': [], 'Heating': [' Radiant'], 'Annual Tax': ['671'], 'House Type': [' Interior Row/Townhouse'], 'Build Year': [' 1925', ' 1925'], 'Updated': [' 08/07/2020'], 'Neighborhood': ['HUNTING PARK'], 'Neighborhood median sales': ['75,000'], 'Neighborhood Median DOM': ['63'], 'Neighborhood Price SQFT': ['81'], 'Association': ['No'], 'Association Monthly': ['0'], 'crawl time': datetime.datetime(2020, 11, 4, 19, 26, 46, 456279)}\n"
     ]
    },
    {
     "name": "stderr",
     "output_type": "stream",
     "text": [
      "2020-11-04 19:26:47,528 selenium.webdriver.remote.remote_connection DEBUG    POST http://127.0.0.1:53362/session {\"capabilities\": {\"firstMatch\": [{}], \"alwaysMatch\": {\"browserName\": \"chrome\", \"platformName\": \"any\", \"proxy\": {\"httpProxy\": \"103.86.155.102:55443\", \"ftpProxy\": \"103.86.155.102:55443\", \"sslProxy\": \"103.86.155.102:55443\", \"proxyType\": \"manual\"}, \"goog:chromeOptions\": {\"extensions\": [], \"args\": []}}}, \"desiredCapabilities\": {\"browserName\": \"chrome\", \"version\": \"\", \"platform\": \"ANY\", \"proxy\": {\"httpProxy\": \"103.86.155.102:55443\", \"ftpProxy\": \"103.86.155.102:55443\", \"sslProxy\": \"103.86.155.102:55443\", \"proxyType\": \"MANUAL\"}, \"goog:chromeOptions\": {\"extensions\": [], \"args\": []}}}\n",
      "2020-11-04 19:26:48,383 selenium.webdriver.remote.remote_connection DEBUG    Finished Request\n",
      "2020-11-04 19:26:48,384 selenium.webdriver.remote.remote_connection DEBUG    POST http://127.0.0.1:53362/session/fa31f29c64dd8732637c112f39556a4a/url {\"url\": \"https://www.realtor.com/realestateandhomes-detail/4521-Tolbut-St_Philadelphia_PA_19136_M45152-02595\"}\n"
     ]
    },
    {
     "name": "stdout",
     "output_type": "stream",
     "text": [
      "https://www.realtor.com/realestateandhomes-detail/4521-Tolbut-St_Philadelphia_PA_19136_M45152-02595\n"
     ]
    },
    {
     "name": "stderr",
     "output_type": "stream",
     "text": [
      "2020-11-04 19:28:24,008 selenium.webdriver.remote.remote_connection DEBUG    Finished Request\n",
      "2020-11-04 19:28:24,009 selenium.webdriver.remote.remote_connection DEBUG    GET http://127.0.0.1:53362/session/fa31f29c64dd8732637c112f39556a4a/source {}\n",
      "2020-11-04 19:28:24,044 selenium.webdriver.remote.remote_connection DEBUG    Finished Request\n",
      "2020-11-04 19:28:28,877 selenium.webdriver.remote.remote_connection DEBUG    DELETE http://127.0.0.1:53362/session/fa31f29c64dd8732637c112f39556a4a/window {}\n",
      "2020-11-04 19:28:28,931 selenium.webdriver.remote.remote_connection DEBUG    Finished Request\n"
     ]
    },
    {
     "name": "stdout",
     "output_type": "stream",
     "text": [
      "4\n",
      "{'Address': '4521 Tolbut St,', 'Locality': 'Philadelphia', 'Region': 'PA', 'Postal Code': '19136', 'Price': ['92,500', '92,500', '92,500', '92,500', '92,500', '92,500', '92,500', '92,500'], 'Days on Market': [], 'SQFT House': ['1,120', '1,120'], 'SQFT Lot': ['1600', '1600'], 'Full Baths': [], 'Half Baths': [], 'Bedrooms': [], 'Garage': [], 'Master Bath': [], 'Cooling': [], 'Heating': [], 'Annual Tax': [], 'House Type': [], 'Build Year': [' 1958'], 'Updated': [' 10/31/2020'], 'Neighborhood': [], 'Neighborhood median sales': ['220,000'], 'Neighborhood Median DOM': ['57'], 'Neighborhood Price SQFT': ['181'], 'Association': [], 'Association Monthly': [], 'crawl time': datetime.datetime(2020, 11, 4, 19, 28, 28, 876882)}\n"
     ]
    },
    {
     "name": "stderr",
     "output_type": "stream",
     "text": [
      "2020-11-04 19:28:29,947 selenium.webdriver.remote.remote_connection DEBUG    POST http://127.0.0.1:53507/session {\"capabilities\": {\"firstMatch\": [{}], \"alwaysMatch\": {\"browserName\": \"chrome\", \"platformName\": \"any\", \"proxy\": {\"httpProxy\": \"51.81.82.175:80\", \"ftpProxy\": \"51.81.82.175:80\", \"sslProxy\": \"51.81.82.175:80\", \"proxyType\": \"manual\"}, \"goog:chromeOptions\": {\"extensions\": [], \"args\": []}}}, \"desiredCapabilities\": {\"browserName\": \"chrome\", \"version\": \"\", \"platform\": \"ANY\", \"proxy\": {\"httpProxy\": \"51.81.82.175:80\", \"ftpProxy\": \"51.81.82.175:80\", \"sslProxy\": \"51.81.82.175:80\", \"proxyType\": \"MANUAL\"}, \"goog:chromeOptions\": {\"extensions\": [], \"args\": []}}}\n",
      "2020-11-04 19:28:30,989 selenium.webdriver.remote.remote_connection DEBUG    Finished Request\n",
      "2020-11-04 19:28:30,990 selenium.webdriver.remote.remote_connection DEBUG    POST http://127.0.0.1:53507/session/2b2e1cf1af87dd650c9eb67b9aff342e/url {\"url\": \"https://www.realtor.com/realestateandhomes-detail/3141-Stirling-St_Philadelphia_PA_19149_M48820-59202\"}\n"
     ]
    },
    {
     "name": "stdout",
     "output_type": "stream",
     "text": [
      "https://www.realtor.com/realestateandhomes-detail/3141-Stirling-St_Philadelphia_PA_19149_M48820-59202\n"
     ]
    },
    {
     "name": "stderr",
     "output_type": "stream",
     "text": [
      "2020-11-04 19:29:07,676 selenium.webdriver.remote.remote_connection DEBUG    Finished Request\n",
      "2020-11-04 19:29:07,677 selenium.webdriver.remote.remote_connection DEBUG    GET http://127.0.0.1:53507/session/2b2e1cf1af87dd650c9eb67b9aff342e/source {}\n",
      "2020-11-04 19:29:07,726 selenium.webdriver.remote.remote_connection DEBUG    Finished Request\n",
      "2020-11-04 19:29:12,443 selenium.webdriver.remote.remote_connection DEBUG    DELETE http://127.0.0.1:53507/session/2b2e1cf1af87dd650c9eb67b9aff342e/window {}\n",
      "2020-11-04 19:29:12,513 selenium.webdriver.remote.remote_connection DEBUG    Finished Request\n"
     ]
    },
    {
     "name": "stdout",
     "output_type": "stream",
     "text": [
      "5\n",
      "{'Address': '3141 Stirling St,', 'Locality': 'Philadelphia', 'Region': 'PA', 'Postal Code': '19149', 'Price': ['165,000', '165,000', '165,000', '165,000', '165,000', '165,000', '165,000', '165,000'], 'Days on Market': ['87'], 'SQFT House': ['960', '960', '960', '960'], 'SQFT Lot': ['1013', '1013'], 'Full Baths': ['1'], 'Half Baths': [], 'Bedrooms': ['3'], 'Garage': [' 1'], 'Master Bath': [], 'Cooling': [], 'Heating': [' Hot Water'], 'Annual Tax': ['1663'], 'House Type': [' Interior Row/Townhouse'], 'Build Year': [' 1940', ' 1940'], 'Updated': [' 08/07/2020'], 'Neighborhood': ['MAYFAIR'], 'Neighborhood median sales': ['207,500'], 'Neighborhood Median DOM': ['74'], 'Neighborhood Price SQFT': ['160'], 'Association': ['No'], 'Association Monthly': ['0'], 'crawl time': datetime.datetime(2020, 11, 4, 19, 29, 12, 443121)}\n"
     ]
    },
    {
     "name": "stderr",
     "output_type": "stream",
     "text": [
      "2020-11-04 19:29:13,529 selenium.webdriver.remote.remote_connection DEBUG    POST http://127.0.0.1:53646/session {\"capabilities\": {\"firstMatch\": [{}], \"alwaysMatch\": {\"browserName\": \"chrome\", \"platformName\": \"any\", \"proxy\": {\"httpProxy\": \"182.16.255.194:43419\", \"ftpProxy\": \"182.16.255.194:43419\", \"sslProxy\": \"182.16.255.194:43419\", \"proxyType\": \"manual\"}, \"goog:chromeOptions\": {\"extensions\": [], \"args\": []}}}, \"desiredCapabilities\": {\"browserName\": \"chrome\", \"version\": \"\", \"platform\": \"ANY\", \"proxy\": {\"httpProxy\": \"182.16.255.194:43419\", \"ftpProxy\": \"182.16.255.194:43419\", \"sslProxy\": \"182.16.255.194:43419\", \"proxyType\": \"MANUAL\"}, \"goog:chromeOptions\": {\"extensions\": [], \"args\": []}}}\n",
      "2020-11-04 19:29:14,571 selenium.webdriver.remote.remote_connection DEBUG    Finished Request\n",
      "2020-11-04 19:29:14,572 selenium.webdriver.remote.remote_connection DEBUG    POST http://127.0.0.1:53646/session/676e5a67fd6b6d1912fa4f74f5f2cd10/url {\"url\": \"https://www.realtor.com/realestateandhomes-detail/2914-S-13th-St_Philadelphia_PA_19148_M39289-91130\"}\n"
     ]
    },
    {
     "name": "stdout",
     "output_type": "stream",
     "text": [
      "https://www.realtor.com/realestateandhomes-detail/2914-S-13th-St_Philadelphia_PA_19148_M39289-91130\n"
     ]
    },
    {
     "name": "stderr",
     "output_type": "stream",
     "text": [
      "2020-11-04 19:31:06,382 selenium.webdriver.remote.remote_connection DEBUG    Finished Request\n",
      "2020-11-04 19:31:06,383 selenium.webdriver.remote.remote_connection DEBUG    GET http://127.0.0.1:53646/session/676e5a67fd6b6d1912fa4f74f5f2cd10/source {}\n",
      "2020-11-04 19:31:06,439 selenium.webdriver.remote.remote_connection DEBUG    Finished Request\n",
      "2020-11-04 19:31:11,150 selenium.webdriver.remote.remote_connection DEBUG    DELETE http://127.0.0.1:53646/session/676e5a67fd6b6d1912fa4f74f5f2cd10/window {}\n",
      "2020-11-04 19:31:11,206 selenium.webdriver.remote.remote_connection DEBUG    Finished Request\n"
     ]
    },
    {
     "name": "stdout",
     "output_type": "stream",
     "text": [
      "6\n",
      "{'Address': '2914 S 13th St,', 'Locality': 'Philadelphia', 'Region': 'PA', 'Postal Code': '19148', 'Price': ['420,000', '420,000', '420,000', '420,000', '420,000', '420,000', '420,000', '420,000'], 'Days on Market': ['3'], 'SQFT House': ['1,300', '1,300', '1,300', '1,300'], 'SQFT Lot': ['1463', '1463'], 'Full Baths': ['2'], 'Half Baths': [' 1'], 'Bedrooms': ['3'], 'Garage': [], 'Master Bath': [], 'Cooling': [' Central A/C'], 'Heating': [' Forced Air Heating'], 'Annual Tax': ['3840'], 'House Type': [' Interior Row/Townhouse'], 'Build Year': [' 1950', ' 1950'], 'Updated': [' 10/31/2020'], 'Neighborhood': ['MARCONI PARK EAST'], 'Neighborhood median sales': ['267,500'], 'Neighborhood Median DOM': ['57'], 'Neighborhood Price SQFT': ['288'], 'Association': ['No'], 'Association Monthly': ['0'], 'crawl time': datetime.datetime(2020, 11, 4, 19, 31, 11, 150558)}\n"
     ]
    },
    {
     "name": "stderr",
     "output_type": "stream",
     "text": [
      "2020-11-04 19:31:12,233 selenium.webdriver.remote.remote_connection DEBUG    POST http://127.0.0.1:53771/session {\"capabilities\": {\"firstMatch\": [{}], \"alwaysMatch\": {\"browserName\": \"chrome\", \"platformName\": \"any\", \"proxy\": {\"httpProxy\": \"37.120.192.154:8080\", \"ftpProxy\": \"37.120.192.154:8080\", \"sslProxy\": \"37.120.192.154:8080\", \"proxyType\": \"manual\"}, \"goog:chromeOptions\": {\"extensions\": [], \"args\": []}}}, \"desiredCapabilities\": {\"browserName\": \"chrome\", \"version\": \"\", \"platform\": \"ANY\", \"proxy\": {\"httpProxy\": \"37.120.192.154:8080\", \"ftpProxy\": \"37.120.192.154:8080\", \"sslProxy\": \"37.120.192.154:8080\", \"proxyType\": \"MANUAL\"}, \"goog:chromeOptions\": {\"extensions\": [], \"args\": []}}}\n",
      "2020-11-04 19:31:13,305 selenium.webdriver.remote.remote_connection DEBUG    Finished Request\n",
      "2020-11-04 19:31:13,306 selenium.webdriver.remote.remote_connection DEBUG    POST http://127.0.0.1:53771/session/d6ca2afce9c1f5db4947306975cc6a6c/url {\"url\": \"https://www.realtor.com/realestateandhomes-detail/3819-Manayunk-Ave_Philadelphia_PA_19128_M33919-78200\"}\n"
     ]
    },
    {
     "name": "stdout",
     "output_type": "stream",
     "text": [
      "https://www.realtor.com/realestateandhomes-detail/3819-Manayunk-Ave_Philadelphia_PA_19128_M33919-78200\n"
     ]
    },
    {
     "name": "stderr",
     "output_type": "stream",
     "text": [
      "2020-11-04 19:32:19,190 selenium.webdriver.remote.remote_connection DEBUG    Finished Request\n",
      "2020-11-04 19:32:19,191 selenium.webdriver.remote.remote_connection DEBUG    GET http://127.0.0.1:53771/session/d6ca2afce9c1f5db4947306975cc6a6c/source {}\n",
      "2020-11-04 19:32:19,250 selenium.webdriver.remote.remote_connection DEBUG    Finished Request\n",
      "2020-11-04 19:32:25,229 selenium.webdriver.remote.remote_connection DEBUG    DELETE http://127.0.0.1:53771/session/d6ca2afce9c1f5db4947306975cc6a6c/window {}\n",
      "2020-11-04 19:32:25,287 selenium.webdriver.remote.remote_connection DEBUG    Finished Request\n"
     ]
    },
    {
     "name": "stdout",
     "output_type": "stream",
     "text": [
      "7\n",
      "{'Address': '3819 Manayunk Ave,', 'Locality': 'Philadelphia', 'Region': 'PA', 'Postal Code': '19128', 'Price': ['299,000', '299,000', '299,000', '299,000', '299,000', '299,000', '299,000', '299,000'], 'Days on Market': ['62'], 'SQFT House': ['1,664', '1,664', '1,664', '1,664'], 'SQFT Lot': ['2915', '2915'], 'Full Baths': ['1'], 'Half Baths': [' 1'], 'Bedrooms': ['3'], 'Garage': [' 2'], 'Master Bath': [], 'Cooling': [' Ceiling Fan(s),'], 'Heating': [' Radiator,'], 'Annual Tax': ['3409'], 'House Type': [' Twin/Semi-Detached'], 'Build Year': [' 1900', ' 1900'], 'Updated': [' 08/07/2020'], 'Neighborhood': ['ROXBOROUGH'], 'Neighborhood median sales': ['273,750'], 'Neighborhood Median DOM': ['60'], 'Neighborhood Price SQFT': ['198'], 'Association': ['No'], 'Association Monthly': ['0'], 'crawl time': datetime.datetime(2020, 11, 4, 19, 32, 25, 228987)}\n"
     ]
    },
    {
     "name": "stderr",
     "output_type": "stream",
     "text": [
      "2020-11-04 19:32:26,308 selenium.webdriver.remote.remote_connection DEBUG    POST http://127.0.0.1:53902/session {\"capabilities\": {\"firstMatch\": [{}], \"alwaysMatch\": {\"browserName\": \"chrome\", \"platformName\": \"any\", \"proxy\": {\"httpProxy\": \"79.101.98.2:53281\", \"ftpProxy\": \"79.101.98.2:53281\", \"sslProxy\": \"79.101.98.2:53281\", \"proxyType\": \"manual\"}, \"goog:chromeOptions\": {\"extensions\": [], \"args\": []}}}, \"desiredCapabilities\": {\"browserName\": \"chrome\", \"version\": \"\", \"platform\": \"ANY\", \"proxy\": {\"httpProxy\": \"79.101.98.2:53281\", \"ftpProxy\": \"79.101.98.2:53281\", \"sslProxy\": \"79.101.98.2:53281\", \"proxyType\": \"MANUAL\"}, \"goog:chromeOptions\": {\"extensions\": [], \"args\": []}}}\n",
      "2020-11-04 19:32:27,373 selenium.webdriver.remote.remote_connection DEBUG    Finished Request\n",
      "2020-11-04 19:32:27,374 selenium.webdriver.remote.remote_connection DEBUG    POST http://127.0.0.1:53902/session/d5b90648a89a7385b4e09428f512c297/url {\"url\": \"https://www.realtor.com/realestateandhomes-detail/1002-Brandywine-St_Philadelphia_PA_19123_M39147-93479\"}\n"
     ]
    },
    {
     "name": "stdout",
     "output_type": "stream",
     "text": [
      "https://www.realtor.com/realestateandhomes-detail/1002-Brandywine-St_Philadelphia_PA_19123_M39147-93479\n"
     ]
    },
    {
     "name": "stderr",
     "output_type": "stream",
     "text": [
      "2020-11-04 19:33:06,809 selenium.webdriver.remote.remote_connection DEBUG    Finished Request\n",
      "2020-11-04 19:33:06,810 selenium.webdriver.remote.remote_connection DEBUG    GET http://127.0.0.1:53902/session/d5b90648a89a7385b4e09428f512c297/source {}\n",
      "2020-11-04 19:33:06,853 selenium.webdriver.remote.remote_connection DEBUG    Finished Request\n",
      "2020-11-04 19:33:11,549 selenium.webdriver.remote.remote_connection DEBUG    DELETE http://127.0.0.1:53902/session/d5b90648a89a7385b4e09428f512c297/window {}\n",
      "2020-11-04 19:33:11,608 selenium.webdriver.remote.remote_connection DEBUG    Finished Request\n"
     ]
    },
    {
     "name": "stdout",
     "output_type": "stream",
     "text": [
      "8\n",
      "{'Address': '1002 Brandywine St,', 'Locality': 'Philadelphia', 'Region': 'PA', 'Postal Code': '19123', 'Price': ['320,000', '320,000', '320,000', '320,000', '320,000', '320,000', '320,000', '320,000'], 'Days on Market': ['43'], 'SQFT House': ['1,540', '1,540', '1,540', '1,540'], 'SQFT Lot': ['779', '779'], 'Full Baths': ['1'], 'Half Baths': [], 'Bedrooms': ['3'], 'Garage': [], 'Master Bath': [], 'Cooling': [' Window Unit(s)'], 'Heating': [' Forced Air Heating'], 'Annual Tax': ['4310'], 'House Type': [' End of Row/Townhouse'], 'Build Year': [' 1905', ' 1905'], 'Updated': [' 08/07/2020'], 'Neighborhood': ['NORTHERN LIBERTIES'], 'Neighborhood median sales': [], 'Neighborhood Median DOM': [], 'Neighborhood Price SQFT': ['239'], 'Association': ['No'], 'Association Monthly': ['0'], 'crawl time': datetime.datetime(2020, 11, 4, 19, 33, 11, 549286)}\n"
     ]
    },
    {
     "name": "stderr",
     "output_type": "stream",
     "text": [
      "2020-11-04 19:33:12,624 selenium.webdriver.remote.remote_connection DEBUG    POST http://127.0.0.1:53992/session {\"capabilities\": {\"firstMatch\": [{}], \"alwaysMatch\": {\"browserName\": \"chrome\", \"platformName\": \"any\", \"proxy\": {\"httpProxy\": \"82.137.255.109:8080\", \"ftpProxy\": \"82.137.255.109:8080\", \"sslProxy\": \"82.137.255.109:8080\", \"proxyType\": \"manual\"}, \"goog:chromeOptions\": {\"extensions\": [], \"args\": []}}}, \"desiredCapabilities\": {\"browserName\": \"chrome\", \"version\": \"\", \"platform\": \"ANY\", \"proxy\": {\"httpProxy\": \"82.137.255.109:8080\", \"ftpProxy\": \"82.137.255.109:8080\", \"sslProxy\": \"82.137.255.109:8080\", \"proxyType\": \"MANUAL\"}, \"goog:chromeOptions\": {\"extensions\": [], \"args\": []}}}\n",
      "2020-11-04 19:33:13,889 selenium.webdriver.remote.remote_connection DEBUG    Finished Request\n",
      "2020-11-04 19:33:13,890 selenium.webdriver.remote.remote_connection DEBUG    POST http://127.0.0.1:53992/session/f24599e0fb6b7e4b0d6e28eeffc934f9/url {\"url\": \"https://www.realtor.com/realestateandhomes-detail/5731-N-17th-St_Philadelphia_PA_19141_M45402-65058\"}\n"
     ]
    },
    {
     "name": "stdout",
     "output_type": "stream",
     "text": [
      "https://www.realtor.com/realestateandhomes-detail/5731-N-17th-St_Philadelphia_PA_19141_M45402-65058\n"
     ]
    },
    {
     "name": "stderr",
     "output_type": "stream",
     "text": [
      "2020-11-04 19:33:43,994 selenium.webdriver.remote.remote_connection DEBUG    Finished Request\n",
      "2020-11-04 19:33:43,994 selenium.webdriver.remote.remote_connection DEBUG    GET http://127.0.0.1:53992/session/f24599e0fb6b7e4b0d6e28eeffc934f9/source {}\n",
      "2020-11-04 19:33:44,016 selenium.webdriver.remote.remote_connection DEBUG    Finished Request\n",
      "2020-11-04 19:33:44,026 selenium.webdriver.remote.remote_connection DEBUG    DELETE http://127.0.0.1:53992/session/f24599e0fb6b7e4b0d6e28eeffc934f9/window {}\n",
      "2020-11-04 19:33:44,080 selenium.webdriver.remote.remote_connection DEBUG    Finished Request\n"
     ]
    },
    {
     "name": "stdout",
     "output_type": "stream",
     "text": [
      "except ran, bad proxy\n",
      "600\n",
      "9\n",
      "{}\n"
     ]
    }
   ],
   "source": [
    "count = 0\n",
    "while count < 20:\n",
    "    listing_data = scrape(remaining_listing_urls_list)\n",
    "    #print(count)\n",
    "    #print(listing_data)\n",
    "    count += 1"
   ]
  },
  {
   "cell_type": "code",
   "execution_count": 106,
   "metadata": {},
   "outputs": [
    {
     "data": {
      "text/plain": [
       "True"
      ]
     },
     "execution_count": 106,
     "metadata": {},
     "output_type": "execute_result"
    }
   ],
   "source": [
    "\"85.238.167.170:51915\" in proxies_address"
   ]
  },
  {
   "cell_type": "code",
   "execution_count": 108,
   "metadata": {},
   "outputs": [
    {
     "data": {
      "text/plain": [
       "0"
      ]
     },
     "execution_count": 108,
     "metadata": {},
     "output_type": "execute_result"
    }
   ],
   "source": [
    "col.count_documents({})"
   ]
  },
  {
   "cell_type": "code",
   "execution_count": 111,
   "metadata": {},
   "outputs": [
    {
     "data": {
      "text/plain": [
       "False"
      ]
     },
     "execution_count": 111,
     "metadata": {},
     "output_type": "execute_result"
    }
   ],
   "source": [
    "'https://www.realtor.com/realestateandhomes-detail/4521-Tolbut-St_Philadelphia_PA_19136_M45152-02595' in remaining_listing_urls_list"
   ]
  },
  {
   "cell_type": "code",
   "execution_count": 113,
   "metadata": {},
   "outputs": [
    {
     "data": {
      "text/plain": [
       "1086"
      ]
     },
     "execution_count": 113,
     "metadata": {},
     "output_type": "execute_result"
    }
   ],
   "source": [
    "len(remaining_listing_urls_list)"
   ]
  },
  {
   "cell_type": "code",
   "execution_count": 114,
   "metadata": {},
   "outputs": [
    {
     "data": {
      "text/plain": [
       "1100"
      ]
     },
     "execution_count": 114,
     "metadata": {},
     "output_type": "execute_result"
    }
   ],
   "source": [
    "len(listing_urls_list)"
   ]
  },
  {
   "cell_type": "code",
   "execution_count": null,
   "metadata": {},
   "outputs": [],
   "source": []
  },
  {
   "cell_type": "code",
   "execution_count": null,
   "metadata": {},
   "outputs": [],
   "source": []
  }
 ],
 "metadata": {
  "kernelspec": {
   "display_name": "Python 3",
   "language": "python",
   "name": "python3"
  },
  "language_info": {
   "codemirror_mode": {
    "name": "ipython",
    "version": 3
   },
   "file_extension": ".py",
   "mimetype": "text/x-python",
   "name": "python",
   "nbconvert_exporter": "python",
   "pygments_lexer": "ipython3",
   "version": "3.7.4"
  }
 },
 "nbformat": 4,
 "nbformat_minor": 2
}
