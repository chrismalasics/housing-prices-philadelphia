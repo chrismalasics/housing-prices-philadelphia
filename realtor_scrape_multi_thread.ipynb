{
 "cells": [
  {
   "cell_type": "code",
   "execution_count": null,
   "metadata": {},
   "outputs": [],
   "source": [
    "import os\n",
    "from bs4 import BeautifulSoup\n",
    "from time import sleep\n",
    "from pymongo import MongoClient\n",
    "from pprint import pprint\n",
    "import concurrent.futures\n",
    "import random\n",
    "from copy import deepcopy\n",
    "from datetime import datetime"
   ]
  },
  {
   "cell_type": "code",
   "execution_count": null,
   "metadata": {},
   "outputs": [],
   "source": [
    "from selenium import webdriver\n",
    "from selenium.webdriver.chrome.options import Options\n",
    "from selenium.webdriver.common.keys import Keys\n",
    "\n",
    "chromedriver = \"/Applications/chromedriver\" # path to the chromedriver executable\n",
    "os.environ[\"webdriver.chrome.driver\"] = chromedriver"
   ]
  },
  {
   "cell_type": "code",
   "execution_count": 2,
   "metadata": {},
   "outputs": [],
   "source": [
    "#helper files\n",
    "import get_proxies as proxies\n",
    "from extractors import get_data "
   ]
  },
  {
   "cell_type": "markdown",
   "metadata": {},
   "source": [
    "#### Pull listing_url documents from mongoDB"
   ]
  },
  {
   "cell_type": "code",
   "execution_count": null,
   "metadata": {},
   "outputs": [],
   "source": [
    "db = MongoClient().get_database('philadelphia_home_prices')"
   ]
  },
  {
   "cell_type": "code",
   "execution_count": null,
   "metadata": {},
   "outputs": [],
   "source": [
    "col = db.get_collection('listing_urls')"
   ]
  },
  {
   "cell_type": "code",
   "execution_count": null,
   "metadata": {},
   "outputs": [],
   "source": [
    "cursor = db.listing_urls.find({})\n",
    "listings = list(cursor)"
   ]
  },
  {
   "cell_type": "code",
   "execution_count": null,
   "metadata": {},
   "outputs": [],
   "source": [
    "#convert dictionary values to list\n",
    "listing_urls_list = []\n",
    "for i in listings:\n",
    "    url = i['url']\n",
    "    listing_urls_list.append(url)"
   ]
  },
  {
   "cell_type": "code",
   "execution_count": null,
   "metadata": {},
   "outputs": [],
   "source": [
    "#check first 5 in list\n",
    "listing_urls_list[0:5]"
   ]
  },
  {
   "cell_type": "markdown",
   "metadata": {},
   "source": [
    "#### New collection for listing data"
   ]
  },
  {
   "cell_type": "code",
   "execution_count": null,
   "metadata": {},
   "outputs": [],
   "source": [
    "db.list_collection_names()"
   ]
  },
  {
   "cell_type": "code",
   "execution_count": null,
   "metadata": {},
   "outputs": [],
   "source": [
    "#uncomment the code you need to use\n",
    "#db.drop_collection('listing_data')\n",
    "#db.create_collection('listing_data')"
   ]
  },
  {
   "cell_type": "code",
   "execution_count": null,
   "metadata": {},
   "outputs": [],
   "source": [
    "col = db.get_collection('listing_data')"
   ]
  },
  {
   "cell_type": "code",
   "execution_count": null,
   "metadata": {},
   "outputs": [],
   "source": [
    "col.count_documents({})"
   ]
  },
  {
   "cell_type": "markdown",
   "metadata": {},
   "source": [
    "#### Get free proxies from https://free-proxy-list.net/"
   ]
  },
  {
   "cell_type": "code",
   "execution_count": 3,
   "metadata": {},
   "outputs": [
    {
     "name": "stderr",
     "output_type": "stream",
     "text": [
      "2020-11-06 16:14:54,068 root   DEBUG    === Initialized Proxy Parsers ===\n",
      "2020-11-06 16:14:54,069 root   DEBUG    \t FreeProxy parser of 'http://free-proxy-list.net' with required bandwidth: '150' KBs\n",
      "2020-11-06 16:14:54,070 root   DEBUG    \t PremProxy parser of 'https://premproxy.com/list/' with required bandwidth: '150' KBs\n",
      "2020-11-06 16:14:54,071 root   DEBUG    =================================\n",
      "2020-11-06 16:14:54,590 root   DEBUG    Added 300 proxies from FreeProxy\n",
      "2020-11-06 16:14:55,345 http_request_randomizer.requests.parsers.PremProxyParser DEBUG    Pages: {'', '08.htm', '12.htm', '13.htm', '06.htm', '14.htm', '10.htm', '09.htm', '04.htm', '05.htm', '02.htm', '07.htm', '11.htm', '03.htm'}\n",
      "2020-11-06 16:14:55,906 http_request_randomizer.requests.parsers.js.UnPacker INFO     JS UnPacker init path: https://premproxy.com/js/148e0.js\n",
      "2020-11-06 16:14:56,482 http_request_randomizer.requests.parsers.js.UnPacker DEBUG    portmap: {'ra613': '8080', 're79f': '32108', 'r1202': '47464', 'r84fc': '55443', 'rb829': '999', 'rc41f': '3128', 'ref95': '32302', 'rc2a9': '34930', 'rf8cd': '60550', 'ra975': '8081', 'r21b9': '80', 'r7db0': '34244', 'r25ac': '53597', 'rc72c': '34235', 'r66fc': '52355', 'r6df1': '51915', 'r0fbc': '37699', 'r6c59': '21231', 'r51e8': '31223', 'r03a9': '3130', 'r3714': '44759', 're65f': '83', 'rd873': '42670', 'rd6f2': '8000', 'r555c': '39611', 'r3c60': '32231', 'r0264': '60020', 'r0c85': '53281', 'ra0f2': '55830', 'rbc7a': '32378', 'rfad5': '59152', 'r1d78': '43388', 'rdd59': '8888', 'rad7e': '9898', 're367': '59393', 'r1c14': '40683', 'rac5f': '34334', 'r5a59': '42367', 'r7a9e': '51680', 'r29ce': '36169', 'r1c50': '44970', 'rc815': '50712', 'r5f60': '3129', 'ra710': '46615', 'r5aa0': '443', 'r8656': '8118', 'rb731': '3000', 'r12ce': '4216', 'rc8bb': '39168', 'r8c72': '34403', 'r7448': '39371', 'r2ec6': '59190', 'r752c': '36681', 'r6060': '34273', 'r3851': '53295', 'r6af2': '40387', 'r4e0d': '52479', 'r9d6b': '33091', 'r4ea1': '65238', 'r7fb0': '30072', 'rd1ad': '44612', 'r65ec': '38525', 'r69e0': '1080', 'r952d': '5836', 'r0259': '42119', 'r566e': '50824', 'r4d4b': '49929', 'r3e38': '35942', 'rb1f3': '8041', 'r6845': '44016', 'r9ae3': '42842', 'r0752': '41701', 'r475d': '61279', 'rc903': '8383', 'r4176': '8082', 'r3e90': '61815', 'r0ece': '31300', 'r889f': '39241', 'r5138': '84', 'r8295': '61148', 'r4fd5': '54100', 'rd248': '9090', 'r84ba': '31785', 'rac12': '37717', 'r317b': '42535', 'r042b': '58332', 'r3b2d': '47247', 'r4d16': '34577', 'rb5d2': '33741', 'rcd3a': '31409', 'rf781': '49049', 'r1daa': '53758', 'rb821': '3009', 'rafca': '30716', 'rdf63': '1234', 'r4fc1': '43856', 'rf48f': '1973', 'rf9b5': '9999', 'rdeb5': '8090', 'r0afd': '60792', 'r0158': '30677', 'r5f22': '48515', 'r8833': '31398', 'r4adc': '47045', 'r5256': '46669', 'r705c': '38057', 'r9a66': '54018', 'r4da0': '42928', 'r99b1': '45820', 'r3d24': '52271', 'rc5ac': '41043', 'r263b': '32213', 'r28d0': '9001', 'r2d2a': '39330', 'r32ed': '23500', 'r62f1': '47236', 'r6e31': '55948', 'rb930': '45871', 'rac0d': '47744', 'r4872': '46340', 'r1870': '10000', 'rcead': '48625', 'r5c37': '39617', 'r8a2b': '45730', 'r72a7': '8282', 'r4670': '40495', 'r120a': '50330', 're87a': '42658', 'rf585': '53073', 're7b2': '51008', 'r427b': '6666', 'r75bd': '36739', 'rc9b3': '35953', 'r592d': '38510', 'rcd93': '8585', 'rfcbf': '30695', 'raf78': '45441', 'rd9c5': '55693', 'r2608': '58198', 'r5912': '45983', 'r250f': '4378', 'rfac5': '43278', 'r7998': '55636', 'rcd86': '3153', 'r3173': '34638', 'r7e8c': '33855', 'r4a00': '12096', 'r7d7f': '36457', 'rf458': '44153', 'rb8af': '35319', 'r6569': '31583', 're013': '7777', 'radad': '32192', 'r6bd0': '43496', 'r9a0a': '47504', 'r2caa': '54675'}\n",
      "2020-11-06 16:15:04,451 root   DEBUG    Added 585 proxies from PremProxy\n",
      "2020-11-06 16:15:04,471 root   DEBUG    Total proxies = 885\n",
      "2020-11-06 16:15:04,472 root   DEBUG    Filtered proxies = 885\n"
     ]
    }
   ],
   "source": [
    "#call function to get list of proxies\n",
    "proxies_address = proxies.proxy_list();"
   ]
  },
  {
   "cell_type": "code",
   "execution_count": null,
   "metadata": {},
   "outputs": [],
   "source": [
    "len(proxies_address)"
   ]
  },
  {
   "cell_type": "markdown",
   "metadata": {},
   "source": [
    "#### Pick which urls in list by index"
   ]
  },
  {
   "cell_type": "code",
   "execution_count": null,
   "metadata": {},
   "outputs": [],
   "source": [
    "#might not be needed\n",
    "scraped_urls = []\n",
    "bad_proxies = []\n",
    "slow_proxies = []"
   ]
  },
  {
   "cell_type": "code",
   "execution_count": null,
   "metadata": {},
   "outputs": [],
   "source": [
    "#only run once\n",
    "remaining_listing_urls_list = deepcopy(listing_urls_list)"
   ]
  },
  {
   "cell_type": "code",
   "execution_count": null,
   "metadata": {},
   "outputs": [],
   "source": [
    "def scrape(urls):\n",
    "    listing_data = {}\n",
    "    #while len(remaining_listing_urls_list) > =:\n",
    "    try:\n",
    "        PROXY = random.choice(proxies_address)\n",
    "        webdriver.DesiredCapabilities.CHROME['proxy']={\"httpProxy\":PROXY,\n",
    "                                                       \"ftpProxy\":PROXY,\n",
    "                                                       \"sslProxy\":PROXY,\n",
    "                                                       \"proxyType\":\"MANUAL\",}\n",
    "\n",
    "        driver = webdriver.Chrome(chromedriver)\n",
    "        url = random.choice(remaining_listing_urls_list)\n",
    "        t0 = time.time()\n",
    "        driver.get(url)\n",
    "\n",
    "        soup = BeautifulSoup(driver.page_source, 'html.parser')\n",
    "        t1 = time.time()\n",
    "        listing_data = get_data(soup, url)\n",
    "\n",
    "        #will skip and move url to bad_urls if the page format is different than expected\n",
    "        if t1-t0 > 180:\n",
    "            slow_proxies.append(PROXY)\n",
    "            proxies_address.remove(PROXY)\n",
    "        if listing_data['Address'] != 'Not Found':\n",
    "            remaining_listing_urls_list.remove(url)\n",
    "            scraped_urls.append(url)\n",
    "        if listing_data['Address'] == 'Not Found' or t1-t0<5:\n",
    "            bad_proxies.append(PROXY)\n",
    "            proxies_address.remove(PROXY)\n",
    "    \n",
    "    except:\n",
    "        print('except ran, bad proxy')\n",
    "        bad_proxies.append(PROXY)\n",
    "        proxies_address.remove(PROXY)\n",
    "        print(len(proxies_address))\n",
    "    \n",
    "    col.insert_one(listing_data)\n",
    "    \n",
    "    print('______________________________________________________')\n",
    "    print(f'   Remaining urls: {len(remaining_listing_urls_list)}')\n",
    "    print(f'     Scraped urls: {len(scraped_urls)}')\n",
    "    print(f'Good proxies left: {len(proxies_address)}')\n",
    "    print(f'      Bad proxies: {len(bad_proxies)}')\n",
    "    print(f'     Slow proxies: {len(slow_proxies)}')\n",
    "    \n",
    "    driver.close()\n",
    "    \n",
    "    if len(proxies_address)<75:\n",
    "        sleep(random.uniform(60,120))\n",
    "    \n",
    "    return listing_data"
   ]
  },
  {
   "cell_type": "code",
   "execution_count": null,
   "metadata": {},
   "outputs": [],
   "source": [
    "def threaded_scrape(urls):\n",
    "    threads = min(10, len(urls))\n",
    "    \n",
    "    with concurrent.futures.ThreadPoolExecutor(max_workers=threads) as executor:\n",
    "        executor.map(scrape, urls)"
   ]
  },
  {
   "cell_type": "code",
   "execution_count": null,
   "metadata": {},
   "outputs": [],
   "source": [
    "threaded_scrape(remaining_listing_urls_list)\n",
    "#threaded_scrape('https://www.realtor.com/realestateandhomes-detail/2236-Napfle-St_Philadelphia_PA_19152_M35913-67774')"
   ]
  },
  {
   "cell_type": "code",
   "execution_count": null,
   "metadata": {},
   "outputs": [],
   "source": []
  },
  {
   "cell_type": "markdown",
   "metadata": {},
   "source": [
    "### Sandbox"
   ]
  },
  {
   "cell_type": "code",
   "execution_count": null,
   "metadata": {},
   "outputs": [],
   "source": [
    "count = 0\n",
    "while count < 20:\n",
    "    listing_data = scrape(remaining_listing_urls_list)\n",
    "    #print(count)\n",
    "    #print(listing_data)\n",
    "    count += 1"
   ]
  },
  {
   "cell_type": "code",
   "execution_count": null,
   "metadata": {},
   "outputs": [],
   "source": [
    "\"85.238.167.170:51915\" in proxies_address"
   ]
  },
  {
   "cell_type": "code",
   "execution_count": null,
   "metadata": {},
   "outputs": [],
   "source": [
    "col.count_documents({})"
   ]
  },
  {
   "cell_type": "code",
   "execution_count": null,
   "metadata": {},
   "outputs": [],
   "source": [
    "'https://www.realtor.com/realestateandhomes-detail/4521-Tolbut-St_Philadelphia_PA_19136_M45152-02595' in remaining_listing_urls_list"
   ]
  },
  {
   "cell_type": "code",
   "execution_count": null,
   "metadata": {},
   "outputs": [],
   "source": [
    "len(remaining_listing_urls_list)"
   ]
  },
  {
   "cell_type": "code",
   "execution_count": null,
   "metadata": {},
   "outputs": [],
   "source": [
    "len(listing_urls_list)"
   ]
  },
  {
   "cell_type": "code",
   "execution_count": 4,
   "metadata": {},
   "outputs": [],
   "source": [
    "import time"
   ]
  },
  {
   "cell_type": "code",
   "execution_count": null,
   "metadata": {},
   "outputs": [],
   "source": [
    "t0 = datetime.now()\n",
    "sleep(1)\n",
    "t1 = datetime.now()\n",
    "(t1-t0) "
   ]
  },
  {
   "cell_type": "code",
   "execution_count": null,
   "metadata": {},
   "outputs": [],
   "source": [
    "t0 = time.time()\n",
    "sleep(1)\n",
    "t1 = time.time()\n",
    "t1-t0"
   ]
  },
  {
   "cell_type": "code",
   "execution_count": null,
   "metadata": {},
   "outputs": [],
   "source": [
    "type(t0)"
   ]
  },
  {
   "cell_type": "code",
   "execution_count": null,
   "metadata": {},
   "outputs": [],
   "source": [
    "time.time()"
   ]
  },
  {
   "cell_type": "code",
   "execution_count": null,
   "metadata": {},
   "outputs": [],
   "source": [
    "driver"
   ]
  },
  {
   "cell_type": "code",
   "execution_count": 5,
   "metadata": {},
   "outputs": [
    {
     "data": {
      "text/plain": [
       "['87.247.19.126:58332',\n",
       " '46.41.135.121:8118',\n",
       " '191.101.39.203:80',\n",
       " '185.26.33.209:8080',\n",
       " '182.237.16.7:83',\n",
       " '82.81.169.142:80',\n",
       " '181.188.166.74:8080',\n",
       " '5.20.91.12:60792',\n",
       " '134.122.120.49:8118',\n",
       " '94.228.85.129:38510']"
      ]
     },
     "execution_count": 5,
     "metadata": {},
     "output_type": "execute_result"
    }
   ],
   "source": [
    "proxies_address[:10]"
   ]
  },
  {
   "cell_type": "code",
   "execution_count": null,
   "metadata": {},
   "outputs": [],
   "source": []
  }
 ],
 "metadata": {
  "kernelspec": {
   "display_name": "Python 3",
   "language": "python",
   "name": "python3"
  },
  "language_info": {
   "codemirror_mode": {
    "name": "ipython",
    "version": 3
   },
   "file_extension": ".py",
   "mimetype": "text/x-python",
   "name": "python",
   "nbconvert_exporter": "python",
   "pygments_lexer": "ipython3",
   "version": "3.7.4"
  }
 },
 "nbformat": 4,
 "nbformat_minor": 2
}
