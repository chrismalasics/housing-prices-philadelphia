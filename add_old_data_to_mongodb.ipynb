{
 "cells": [
  {
   "cell_type": "code",
   "execution_count": 1,
   "metadata": {},
   "outputs": [],
   "source": [
    "from pymongo import MongoClient\n",
    "from pprint import pprint\n",
    "import pandas as pd\n",
    "import json"
   ]
  },
  {
   "cell_type": "markdown",
   "metadata": {},
   "source": [
    "Initialize Mongodb database"
   ]
  },
  {
   "cell_type": "code",
   "execution_count": 2,
   "metadata": {},
   "outputs": [],
   "source": [
    "client = MongoClient()"
   ]
  },
  {
   "cell_type": "code",
   "execution_count": 3,
   "metadata": {},
   "outputs": [],
   "source": [
    "db = client['philadelphia_home_prices']"
   ]
  },
  {
   "cell_type": "code",
   "execution_count": 4,
   "metadata": {},
   "outputs": [
    {
     "data": {
      "text/plain": [
       "['prices_messy']"
      ]
     },
     "execution_count": 4,
     "metadata": {},
     "output_type": "execute_result"
    }
   ],
   "source": [
    "db.list_collection_names()"
   ]
  },
  {
   "cell_type": "code",
   "execution_count": 5,
   "metadata": {},
   "outputs": [
    {
     "data": {
      "text/plain": [
       "{'nIndexesWas': 1, 'ns': 'philadelphia_home_prices.prices_messy', 'ok': 1.0}"
      ]
     },
     "execution_count": 5,
     "metadata": {},
     "output_type": "execute_result"
    }
   ],
   "source": [
    "#uncomment to drop collection if needed during testing\n",
    "db.drop_collection('prices_messy')"
   ]
  },
  {
   "cell_type": "code",
   "execution_count": 6,
   "metadata": {},
   "outputs": [],
   "source": [
    "col = db.create_collection('prices_messy')"
   ]
  },
  {
   "cell_type": "code",
   "execution_count": 7,
   "metadata": {},
   "outputs": [
    {
     "data": {
      "text/plain": [
       "['prices_messy']"
      ]
     },
     "execution_count": 7,
     "metadata": {},
     "output_type": "execute_result"
    }
   ],
   "source": [
    "db.list_collection_names()"
   ]
  },
  {
   "cell_type": "markdown",
   "metadata": {},
   "source": [
    "Add old data"
   ]
  },
  {
   "cell_type": "code",
   "execution_count": 8,
   "metadata": {},
   "outputs": [],
   "source": [
    "df = pd.read_csv('house_data.csv')#.set_index(['Address'])\n",
    "df2 = pd.read_csv('house_data_day2.csv')\n",
    "df = pd.concat([df,df2])"
   ]
  },
  {
   "cell_type": "code",
   "execution_count": 9,
   "metadata": {},
   "outputs": [
    {
     "name": "stdout",
     "output_type": "stream",
     "text": [
      "<class 'pandas.core.frame.DataFrame'>\n",
      "Int64Index: 702 entries, 0 to 504\n",
      "Data columns (total 26 columns):\n",
      "Unnamed: 0             702 non-null int64\n",
      "Address                702 non-null object\n",
      "Locality               702 non-null object\n",
      "Region                 702 non-null object\n",
      "Postal Code            702 non-null int64\n",
      "Price                  702 non-null object\n",
      "SQFT House             702 non-null object\n",
      "SQFT Lot               702 non-null object\n",
      "Full Baths             702 non-null object\n",
      "Half Baths             702 non-null object\n",
      "Bedrooms               702 non-null object\n",
      "Garage                 702 non-null object\n",
      "Master Bath            702 non-null object\n",
      "Cooling                702 non-null object\n",
      "Heating                702 non-null object\n",
      "Elementary School      702 non-null object\n",
      "Middle School          702 non-null object\n",
      "High School            702 non-null object\n",
      "School District        702 non-null object\n",
      "Annual Tax             702 non-null object\n",
      "House Type             702 non-null object\n",
      "Build Year             702 non-null object\n",
      "Updated                702 non-null object\n",
      "Neighborhood           702 non-null object\n",
      "Association Monthly    702 non-null object\n",
      "Schoool District       529 non-null float64\n",
      "dtypes: float64(1), int64(2), object(23)\n",
      "memory usage: 148.1+ KB\n"
     ]
    }
   ],
   "source": [
    "df.info()"
   ]
  },
  {
   "cell_type": "code",
   "execution_count": 10,
   "metadata": {},
   "outputs": [
    {
     "data": {
      "text/html": [
       "<div>\n",
       "<style scoped>\n",
       "    .dataframe tbody tr th:only-of-type {\n",
       "        vertical-align: middle;\n",
       "    }\n",
       "\n",
       "    .dataframe tbody tr th {\n",
       "        vertical-align: top;\n",
       "    }\n",
       "\n",
       "    .dataframe thead th {\n",
       "        text-align: right;\n",
       "    }\n",
       "</style>\n",
       "<table border=\"1\" class=\"dataframe\">\n",
       "  <thead>\n",
       "    <tr style=\"text-align: right;\">\n",
       "      <th></th>\n",
       "      <th>Unnamed: 0</th>\n",
       "      <th>Address</th>\n",
       "      <th>Locality</th>\n",
       "      <th>Region</th>\n",
       "      <th>Postal Code</th>\n",
       "      <th>Price</th>\n",
       "      <th>SQFT House</th>\n",
       "      <th>SQFT Lot</th>\n",
       "      <th>Full Baths</th>\n",
       "      <th>Half Baths</th>\n",
       "      <th>...</th>\n",
       "      <th>Middle School</th>\n",
       "      <th>High School</th>\n",
       "      <th>School District</th>\n",
       "      <th>Annual Tax</th>\n",
       "      <th>House Type</th>\n",
       "      <th>Build Year</th>\n",
       "      <th>Updated</th>\n",
       "      <th>Neighborhood</th>\n",
       "      <th>Association Monthly</th>\n",
       "      <th>Schoool District</th>\n",
       "    </tr>\n",
       "  </thead>\n",
       "  <tbody>\n",
       "    <tr>\n",
       "      <td>0</td>\n",
       "      <td>0</td>\n",
       "      <td>724 W Chelten Ave</td>\n",
       "      <td>Philadelphia</td>\n",
       "      <td>PA</td>\n",
       "      <td>19126</td>\n",
       "      <td>459000</td>\n",
       "      <td>3290</td>\n",
       "      <td>17689</td>\n",
       "      <td>3</td>\n",
       "      <td>3</td>\n",
       "      <td>...</td>\n",
       "      <td>[]</td>\n",
       "      <td>['High School: CENTRAL ', 'High School: CENTRAL']</td>\n",
       "      <td>School District: THE SCHOOL DISTRICT OF PHILAD...</td>\n",
       "      <td>4205</td>\n",
       "      <td>Single family</td>\n",
       "      <td>1925</td>\n",
       "      <td>05/15/2020</td>\n",
       "      <td>['Neighborhood: COBBS CREEK&lt;']</td>\n",
       "      <td>['0']</td>\n",
       "      <td>53.0</td>\n",
       "    </tr>\n",
       "    <tr>\n",
       "      <td>1</td>\n",
       "      <td>1</td>\n",
       "      <td>2230 S Carlisle St</td>\n",
       "      <td>Philadelphia</td>\n",
       "      <td>PA</td>\n",
       "      <td>19145</td>\n",
       "      <td>250000</td>\n",
       "      <td>1050</td>\n",
       "      <td>689</td>\n",
       "      <td>1</td>\n",
       "      <td>['']</td>\n",
       "      <td>...</td>\n",
       "      <td>[]</td>\n",
       "      <td>[]</td>\n",
       "      <td>School District: THE SCHOOL DISTRICT OF PHILAD...</td>\n",
       "      <td>1407</td>\n",
       "      <td>Multi family</td>\n",
       "      <td>1920</td>\n",
       "      <td>05/16/2020</td>\n",
       "      <td>['Neighborhood: COBBS CREEK&lt;']</td>\n",
       "      <td>['0']</td>\n",
       "      <td>53.0</td>\n",
       "    </tr>\n",
       "    <tr>\n",
       "      <td>2</td>\n",
       "      <td>2</td>\n",
       "      <td>1247 E Columbia Ave Apt 30</td>\n",
       "      <td>Philadelphia</td>\n",
       "      <td>PA</td>\n",
       "      <td>19125</td>\n",
       "      <td>500000</td>\n",
       "      <td>1092</td>\n",
       "      <td>[]</td>\n",
       "      <td>2</td>\n",
       "      <td>1</td>\n",
       "      <td>...</td>\n",
       "      <td>[]</td>\n",
       "      <td>[]</td>\n",
       "      <td>School District: THE SCHOOL DISTRICT OF PHILAD...</td>\n",
       "      <td>897</td>\n",
       "      <td>Condo</td>\n",
       "      <td>2016</td>\n",
       "      <td>05/17/2020</td>\n",
       "      <td>['Neighborhood: COBBS CREEK&lt;']</td>\n",
       "      <td>['312']</td>\n",
       "      <td>53.0</td>\n",
       "    </tr>\n",
       "    <tr>\n",
       "      <td>3</td>\n",
       "      <td>3</td>\n",
       "      <td>500 Admirals Way Apt 112</td>\n",
       "      <td>Philadelphia</td>\n",
       "      <td>PA</td>\n",
       "      <td>19146</td>\n",
       "      <td>383500</td>\n",
       "      <td>902</td>\n",
       "      <td>[]</td>\n",
       "      <td>1</td>\n",
       "      <td>['']</td>\n",
       "      <td>...</td>\n",
       "      <td>[]</td>\n",
       "      <td>[]</td>\n",
       "      <td>School District: THE SCHOOL DISTRICT OF PHILAD...</td>\n",
       "      <td>4878</td>\n",
       "      <td>Condo</td>\n",
       "      <td>2006</td>\n",
       "      <td>05/17/2020</td>\n",
       "      <td>['Neighborhood: COBBS CREEK&lt;']</td>\n",
       "      <td>['432']</td>\n",
       "      <td>53.0</td>\n",
       "    </tr>\n",
       "    <tr>\n",
       "      <td>4</td>\n",
       "      <td>4</td>\n",
       "      <td>1021 Hazelwood Dr</td>\n",
       "      <td>Philadelphia</td>\n",
       "      <td>PA</td>\n",
       "      <td>19150</td>\n",
       "      <td>370000</td>\n",
       "      <td>2513</td>\n",
       "      <td>2716</td>\n",
       "      <td>3</td>\n",
       "      <td>1</td>\n",
       "      <td>...</td>\n",
       "      <td>[]</td>\n",
       "      <td>['High School: ROXBOROUGH ', 'High School: ROX...</td>\n",
       "      <td>School District: THE SCHOOL DISTRICT OF PHILAD...</td>\n",
       "      <td>720</td>\n",
       "      <td>Single family</td>\n",
       "      <td>2016</td>\n",
       "      <td>05/15/2020</td>\n",
       "      <td>['Neighborhood: COBBS CREEK&lt;']</td>\n",
       "      <td>['0']</td>\n",
       "      <td>53.0</td>\n",
       "    </tr>\n",
       "  </tbody>\n",
       "</table>\n",
       "<p>5 rows × 26 columns</p>\n",
       "</div>"
      ],
      "text/plain": [
       "   Unnamed: 0                     Address      Locality Region  Postal Code  \\\n",
       "0           0           724 W Chelten Ave  Philadelphia     PA        19126   \n",
       "1           1          2230 S Carlisle St  Philadelphia     PA        19145   \n",
       "2           2  1247 E Columbia Ave Apt 30  Philadelphia     PA        19125   \n",
       "3           3    500 Admirals Way Apt 112  Philadelphia     PA        19146   \n",
       "4           4           1021 Hazelwood Dr  Philadelphia     PA        19150   \n",
       "\n",
       "    Price SQFT House SQFT Lot Full Baths Half Baths  ... Middle School  \\\n",
       "0  459000       3290    17689          3          3  ...            []   \n",
       "1  250000       1050      689          1       ['']  ...            []   \n",
       "2  500000       1092       []          2          1  ...            []   \n",
       "3  383500        902       []          1       ['']  ...            []   \n",
       "4  370000       2513     2716          3          1  ...            []   \n",
       "\n",
       "                                         High School  \\\n",
       "0  ['High School: CENTRAL ', 'High School: CENTRAL']   \n",
       "1                                                 []   \n",
       "2                                                 []   \n",
       "3                                                 []   \n",
       "4  ['High School: ROXBOROUGH ', 'High School: ROX...   \n",
       "\n",
       "                                     School District Annual Tax  \\\n",
       "0  School District: THE SCHOOL DISTRICT OF PHILAD...       4205   \n",
       "1  School District: THE SCHOOL DISTRICT OF PHILAD...       1407   \n",
       "2  School District: THE SCHOOL DISTRICT OF PHILAD...        897   \n",
       "3  School District: THE SCHOOL DISTRICT OF PHILAD...       4878   \n",
       "4  School District: THE SCHOOL DISTRICT OF PHILAD...        720   \n",
       "\n",
       "      House Type Build Year     Updated                    Neighborhood  \\\n",
       "0  Single family       1925  05/15/2020  ['Neighborhood: COBBS CREEK<']   \n",
       "1   Multi family       1920  05/16/2020  ['Neighborhood: COBBS CREEK<']   \n",
       "2          Condo       2016  05/17/2020  ['Neighborhood: COBBS CREEK<']   \n",
       "3          Condo       2006  05/17/2020  ['Neighborhood: COBBS CREEK<']   \n",
       "4  Single family       2016  05/15/2020  ['Neighborhood: COBBS CREEK<']   \n",
       "\n",
       "  Association Monthly Schoool District  \n",
       "0               ['0']             53.0  \n",
       "1               ['0']             53.0  \n",
       "2             ['312']             53.0  \n",
       "3             ['432']             53.0  \n",
       "4               ['0']             53.0  \n",
       "\n",
       "[5 rows x 26 columns]"
      ]
     },
     "execution_count": 10,
     "metadata": {},
     "output_type": "execute_result"
    }
   ],
   "source": [
    "df.head()"
   ]
  },
  {
   "cell_type": "code",
   "execution_count": 11,
   "metadata": {},
   "outputs": [],
   "source": [
    "df = df.drop(['Unnamed: 0'],1)"
   ]
  },
  {
   "cell_type": "code",
   "execution_count": 12,
   "metadata": {},
   "outputs": [
    {
     "data": {
      "text/html": [
       "<div>\n",
       "<style scoped>\n",
       "    .dataframe tbody tr th:only-of-type {\n",
       "        vertical-align: middle;\n",
       "    }\n",
       "\n",
       "    .dataframe tbody tr th {\n",
       "        vertical-align: top;\n",
       "    }\n",
       "\n",
       "    .dataframe thead th {\n",
       "        text-align: right;\n",
       "    }\n",
       "</style>\n",
       "<table border=\"1\" class=\"dataframe\">\n",
       "  <thead>\n",
       "    <tr style=\"text-align: right;\">\n",
       "      <th></th>\n",
       "      <th>Address</th>\n",
       "      <th>Locality</th>\n",
       "      <th>Region</th>\n",
       "      <th>Postal Code</th>\n",
       "      <th>Price</th>\n",
       "      <th>SQFT House</th>\n",
       "      <th>SQFT Lot</th>\n",
       "      <th>Full Baths</th>\n",
       "      <th>Half Baths</th>\n",
       "      <th>Bedrooms</th>\n",
       "      <th>...</th>\n",
       "      <th>Middle School</th>\n",
       "      <th>High School</th>\n",
       "      <th>School District</th>\n",
       "      <th>Annual Tax</th>\n",
       "      <th>House Type</th>\n",
       "      <th>Build Year</th>\n",
       "      <th>Updated</th>\n",
       "      <th>Neighborhood</th>\n",
       "      <th>Association Monthly</th>\n",
       "      <th>Schoool District</th>\n",
       "    </tr>\n",
       "  </thead>\n",
       "  <tbody>\n",
       "    <tr>\n",
       "      <td>0</td>\n",
       "      <td>724 W Chelten Ave</td>\n",
       "      <td>Philadelphia</td>\n",
       "      <td>PA</td>\n",
       "      <td>19126</td>\n",
       "      <td>459000</td>\n",
       "      <td>3290</td>\n",
       "      <td>17689</td>\n",
       "      <td>3</td>\n",
       "      <td>3</td>\n",
       "      <td>5</td>\n",
       "      <td>...</td>\n",
       "      <td>[]</td>\n",
       "      <td>['High School: CENTRAL ', 'High School: CENTRAL']</td>\n",
       "      <td>School District: THE SCHOOL DISTRICT OF PHILAD...</td>\n",
       "      <td>4205</td>\n",
       "      <td>Single family</td>\n",
       "      <td>1925</td>\n",
       "      <td>05/15/2020</td>\n",
       "      <td>['Neighborhood: COBBS CREEK&lt;']</td>\n",
       "      <td>['0']</td>\n",
       "      <td>53.0</td>\n",
       "    </tr>\n",
       "  </tbody>\n",
       "</table>\n",
       "<p>1 rows × 25 columns</p>\n",
       "</div>"
      ],
      "text/plain": [
       "             Address      Locality Region  Postal Code   Price SQFT House  \\\n",
       "0  724 W Chelten Ave  Philadelphia     PA        19126  459000       3290   \n",
       "\n",
       "  SQFT Lot Full Baths Half Baths Bedrooms  ... Middle School  \\\n",
       "0    17689          3          3        5  ...            []   \n",
       "\n",
       "                                         High School  \\\n",
       "0  ['High School: CENTRAL ', 'High School: CENTRAL']   \n",
       "\n",
       "                                     School District Annual Tax  \\\n",
       "0  School District: THE SCHOOL DISTRICT OF PHILAD...       4205   \n",
       "\n",
       "      House Type Build Year     Updated                    Neighborhood  \\\n",
       "0  Single family       1925  05/15/2020  ['Neighborhood: COBBS CREEK<']   \n",
       "\n",
       "  Association Monthly Schoool District  \n",
       "0               ['0']             53.0  \n",
       "\n",
       "[1 rows x 25 columns]"
      ]
     },
     "execution_count": 12,
     "metadata": {},
     "output_type": "execute_result"
    }
   ],
   "source": [
    "df.head(1)"
   ]
  },
  {
   "cell_type": "code",
   "execution_count": 13,
   "metadata": {},
   "outputs": [],
   "source": [
    "df.reset_index(inplace=True)"
   ]
  },
  {
   "cell_type": "code",
   "execution_count": 14,
   "metadata": {},
   "outputs": [
    {
     "data": {
      "text/html": [
       "<div>\n",
       "<style scoped>\n",
       "    .dataframe tbody tr th:only-of-type {\n",
       "        vertical-align: middle;\n",
       "    }\n",
       "\n",
       "    .dataframe tbody tr th {\n",
       "        vertical-align: top;\n",
       "    }\n",
       "\n",
       "    .dataframe thead th {\n",
       "        text-align: right;\n",
       "    }\n",
       "</style>\n",
       "<table border=\"1\" class=\"dataframe\">\n",
       "  <thead>\n",
       "    <tr style=\"text-align: right;\">\n",
       "      <th></th>\n",
       "      <th>index</th>\n",
       "      <th>Address</th>\n",
       "      <th>Locality</th>\n",
       "      <th>Region</th>\n",
       "      <th>Postal Code</th>\n",
       "      <th>Price</th>\n",
       "      <th>SQFT House</th>\n",
       "      <th>SQFT Lot</th>\n",
       "      <th>Full Baths</th>\n",
       "      <th>Half Baths</th>\n",
       "      <th>...</th>\n",
       "      <th>Middle School</th>\n",
       "      <th>High School</th>\n",
       "      <th>School District</th>\n",
       "      <th>Annual Tax</th>\n",
       "      <th>House Type</th>\n",
       "      <th>Build Year</th>\n",
       "      <th>Updated</th>\n",
       "      <th>Neighborhood</th>\n",
       "      <th>Association Monthly</th>\n",
       "      <th>Schoool District</th>\n",
       "    </tr>\n",
       "  </thead>\n",
       "  <tbody>\n",
       "    <tr>\n",
       "      <td>0</td>\n",
       "      <td>0</td>\n",
       "      <td>724 W Chelten Ave</td>\n",
       "      <td>Philadelphia</td>\n",
       "      <td>PA</td>\n",
       "      <td>19126</td>\n",
       "      <td>459000</td>\n",
       "      <td>3290</td>\n",
       "      <td>17689</td>\n",
       "      <td>3</td>\n",
       "      <td>3</td>\n",
       "      <td>...</td>\n",
       "      <td>[]</td>\n",
       "      <td>['High School: CENTRAL ', 'High School: CENTRAL']</td>\n",
       "      <td>School District: THE SCHOOL DISTRICT OF PHILAD...</td>\n",
       "      <td>4205</td>\n",
       "      <td>Single family</td>\n",
       "      <td>1925</td>\n",
       "      <td>05/15/2020</td>\n",
       "      <td>['Neighborhood: COBBS CREEK&lt;']</td>\n",
       "      <td>['0']</td>\n",
       "      <td>53.0</td>\n",
       "    </tr>\n",
       "  </tbody>\n",
       "</table>\n",
       "<p>1 rows × 26 columns</p>\n",
       "</div>"
      ],
      "text/plain": [
       "   index            Address      Locality Region  Postal Code   Price  \\\n",
       "0      0  724 W Chelten Ave  Philadelphia     PA        19126  459000   \n",
       "\n",
       "  SQFT House SQFT Lot Full Baths Half Baths  ... Middle School  \\\n",
       "0       3290    17689          3          3  ...            []   \n",
       "\n",
       "                                         High School  \\\n",
       "0  ['High School: CENTRAL ', 'High School: CENTRAL']   \n",
       "\n",
       "                                     School District Annual Tax  \\\n",
       "0  School District: THE SCHOOL DISTRICT OF PHILAD...       4205   \n",
       "\n",
       "      House Type Build Year     Updated                    Neighborhood  \\\n",
       "0  Single family       1925  05/15/2020  ['Neighborhood: COBBS CREEK<']   \n",
       "\n",
       "  Association Monthly Schoool District  \n",
       "0               ['0']             53.0  \n",
       "\n",
       "[1 rows x 26 columns]"
      ]
     },
     "execution_count": 14,
     "metadata": {},
     "output_type": "execute_result"
    }
   ],
   "source": [
    "df.head(1)"
   ]
  },
  {
   "cell_type": "code",
   "execution_count": 15,
   "metadata": {},
   "outputs": [],
   "source": [
    "prices_dict = df.to_json(orient=\"index\")\n",
    "parsed = json.loads(prices_dict)\n",
    "list_of_dics = [value for value in parsed.values()]"
   ]
  },
  {
   "cell_type": "code",
   "execution_count": 16,
   "metadata": {},
   "outputs": [
    {
     "data": {
      "text/plain": [
       "702"
      ]
     },
     "execution_count": 16,
     "metadata": {},
     "output_type": "execute_result"
    }
   ],
   "source": [
    "len(list_of_dics)"
   ]
  },
  {
   "cell_type": "code",
   "execution_count": 17,
   "metadata": {},
   "outputs": [
    {
     "data": {
      "text/plain": [
       "<pymongo.results.InsertManyResult at 0x7fddd7dc4730>"
      ]
     },
     "execution_count": 17,
     "metadata": {},
     "output_type": "execute_result"
    }
   ],
   "source": [
    "col.insert_many(list_of_dics)"
   ]
  },
  {
   "cell_type": "code",
   "execution_count": 18,
   "metadata": {},
   "outputs": [
    {
     "name": "stderr",
     "output_type": "stream",
     "text": [
      "/Users/chrismalasics/opt/anaconda3/lib/python3.7/site-packages/ipykernel_launcher.py:1: DeprecationWarning: count is deprecated. Use estimated_document_count or count_documents instead. Please note that $where must be replaced by $expr, $near must be replaced by $geoWithin with $center, and $nearSphere must be replaced by $geoWithin with $centerSphere\n",
      "  \"\"\"Entry point for launching an IPython kernel.\n"
     ]
    },
    {
     "data": {
      "text/plain": [
       "702"
      ]
     },
     "execution_count": 18,
     "metadata": {},
     "output_type": "execute_result"
    }
   ],
   "source": [
    "col.count()"
   ]
  },
  {
   "cell_type": "code",
   "execution_count": 19,
   "metadata": {},
   "outputs": [
    {
     "data": {
      "text/plain": [
       "{'index': 0,\n",
       " 'Address': '724 W Chelten Ave',\n",
       " 'Locality': 'Philadelphia',\n",
       " 'Region': 'PA',\n",
       " 'Postal Code': 19126,\n",
       " 'Price': '459000',\n",
       " 'SQFT House': '3290',\n",
       " 'SQFT Lot': '17689',\n",
       " 'Full Baths': '3',\n",
       " 'Half Baths': '3',\n",
       " 'Bedrooms': '5',\n",
       " 'Garage': '[]',\n",
       " 'Master Bath': '[]',\n",
       " 'Cooling': \"['Whole House Fan']\",\n",
       " 'Heating': \"['Hot Water']\",\n",
       " 'Elementary School': '[]',\n",
       " 'Middle School': '[]',\n",
       " 'High School': \"['High School: CENTRAL ', 'High School: CENTRAL']\",\n",
       " 'School District': 'School District: THE SCHOOL DISTRICT OF PHILADELPHIA ',\n",
       " 'Annual Tax': '4205',\n",
       " 'House Type': 'Single family',\n",
       " 'Build Year': '1925',\n",
       " 'Updated': '05/15/2020',\n",
       " 'Neighborhood': \"['Neighborhood: COBBS CREEK<']\",\n",
       " 'Association Monthly': \"['0']\",\n",
       " 'Schoool District': 53.0,\n",
       " '_id': ObjectId('5f8f3b5c10b8d8dd650e2938')}"
      ]
     },
     "execution_count": 19,
     "metadata": {},
     "output_type": "execute_result"
    }
   ],
   "source": [
    "list_of_dics[0]"
   ]
  },
  {
   "cell_type": "code",
   "execution_count": 20,
   "metadata": {},
   "outputs": [
    {
     "data": {
      "text/plain": [
       "702"
      ]
     },
     "execution_count": 20,
     "metadata": {},
     "output_type": "execute_result"
    }
   ],
   "source": [
    "len(list_of_dics)"
   ]
  },
  {
   "cell_type": "code",
   "execution_count": 21,
   "metadata": {},
   "outputs": [
    {
     "name": "stderr",
     "output_type": "stream",
     "text": [
      "/Users/chrismalasics/opt/anaconda3/lib/python3.7/site-packages/ipykernel_launcher.py:1: DeprecationWarning: collection_names is deprecated. Use list_collection_names instead.\n",
      "  \"\"\"Entry point for launching an IPython kernel.\n"
     ]
    },
    {
     "data": {
      "text/plain": [
       "['prices_messy', 'listing_urls', 'listing_data']"
      ]
     },
     "execution_count": 21,
     "metadata": {},
     "output_type": "execute_result"
    }
   ],
   "source": [
    "db.collection_names()"
   ]
  },
  {
   "cell_type": "code",
   "execution_count": 22,
   "metadata": {},
   "outputs": [],
   "source": [
    "#pull urls from mongo db\n",
    "cursor = db.listing_data.find({})\n",
    "listings = list(cursor)"
   ]
  },
  {
   "cell_type": "code",
   "execution_count": 23,
   "metadata": {},
   "outputs": [
    {
     "data": {
      "text/plain": [
       "[{'_id': ObjectId('5f9a0001329f96e5db63d260'),\n",
       "  'Address': '1232 N Mascher St Unit A,',\n",
       "  'Locality': 'Philadelphia',\n",
       "  'Region': 'PA',\n",
       "  'Postal Code': '19122',\n",
       "  'Price': ['639,900',\n",
       "   '639,900',\n",
       "   '639,900',\n",
       "   '639,900',\n",
       "   '639,900',\n",
       "   '639,900',\n",
       "   '639,900',\n",
       "   '639,900',\n",
       "   '639,900'],\n",
       "  'Days on Market': ['37'],\n",
       "  'SQFT House': ['3,188', '3,188', '3,188', '3,188'],\n",
       "  'SQFT Lot': ['960', '960'],\n",
       "  'Full Baths': ['3'],\n",
       "  'Half Baths': [],\n",
       "  'Bedrooms': ['3'],\n",
       "  'Garage': [' 1'],\n",
       "  'Master Bath': [],\n",
       "  'Cooling': [' Central A/C'],\n",
       "  'Heating': [' Forced Air Heating'],\n",
       "  'Annual Tax': ['2056'],\n",
       "  'House Type': [' End of Row/Townhouse'],\n",
       "  'Build Year': [' 2015', ' 2015'],\n",
       "  'Updated': [' 08/07/2020'],\n",
       "  'Neighborhood': ['OLD KENSINGTON'],\n",
       "  'Neighborhood median sales': ['250,000'],\n",
       "  'Neighborhood Median DOM': ['63'],\n",
       "  'Neighborhood Price SQFT': ['195'],\n",
       "  'Association': ['Yes'],\n",
       "  'Association Monthly': ['172']},\n",
       " {'_id': ObjectId('5f9a00b1329f96e5db63d261'),\n",
       "  'Address': '212 Carpenter St Unit C,',\n",
       "  'Locality': 'Philadelphia',\n",
       "  'Region': 'PA',\n",
       "  'Postal Code': '19147',\n",
       "  'Price': ['415,000',\n",
       "   '415,000',\n",
       "   '415,000',\n",
       "   '415,000',\n",
       "   '415,000',\n",
       "   '415,000',\n",
       "   '415,000',\n",
       "   '415,000',\n",
       "   '415,000'],\n",
       "  'Days on Market': ['49'],\n",
       "  'SQFT House': ['1,440', '1,440', '1,440', '1,440'],\n",
       "  'SQFT Lot': ['785', '785'],\n",
       "  'Full Baths': ['1'],\n",
       "  'Half Baths': [' 1'],\n",
       "  'Bedrooms': ['3'],\n",
       "  'Garage': [],\n",
       "  'Master Bath': [],\n",
       "  'Cooling': [' Central A/C'],\n",
       "  'Heating': [' Forced Air Heating,'],\n",
       "  'Annual Tax': ['5312'],\n",
       "  'House Type': [' Interior Row/Townhouse'],\n",
       "  'Build Year': [' 1920', ' 1920'],\n",
       "  'Updated': [' 08/07/2020'],\n",
       "  'Neighborhood': ['QUEEN VILLAGE'],\n",
       "  'Neighborhood median sales': ['550,500'],\n",
       "  'Neighborhood Median DOM': ['60'],\n",
       "  'Neighborhood Price SQFT': ['365'],\n",
       "  'Association': ['No'],\n",
       "  'Association Monthly': ['0']},\n",
       " {'_id': ObjectId('5f9a0146329f96e5db63d262'),\n",
       "  'Address': '1211 E Cheltenham Ave,',\n",
       "  'Locality': 'Philadelphia',\n",
       "  'Region': 'PA',\n",
       "  'Postal Code': '19124',\n",
       "  'Price': ['100,000',\n",
       "   '100,000',\n",
       "   '100,000',\n",
       "   '100,000',\n",
       "   '100,000',\n",
       "   '100,000',\n",
       "   '100,000',\n",
       "   '100,000',\n",
       "   '100,000'],\n",
       "  'Days on Market': ['44'],\n",
       "  'SQFT House': ['1,110', '1,110', '1,110', '1,110'],\n",
       "  'SQFT Lot': ['1080', '1080'],\n",
       "  'Full Baths': ['1'],\n",
       "  'Half Baths': [],\n",
       "  'Bedrooms': ['3'],\n",
       "  'Garage': [],\n",
       "  'Master Bath': [],\n",
       "  'Cooling': [],\n",
       "  'Heating': [' Hot Water'],\n",
       "  'Annual Tax': ['1257'],\n",
       "  'House Type': [' Interior Row/Townhouse'],\n",
       "  'Build Year': [' 1950', ' 1950'],\n",
       "  'Updated': [' 08/07/2020'],\n",
       "  'Neighborhood': ['OXFORD CIRCLE'],\n",
       "  'Neighborhood median sales': [],\n",
       "  'Neighborhood Median DOM': [],\n",
       "  'Neighborhood Price SQFT': ['120'],\n",
       "  'Association': ['No'],\n",
       "  'Association Monthly': ['0']},\n",
       " {'_id': ObjectId('5f9a01ff329f96e5db63d263'),\n",
       "  'Address': '1002 Brandywine St,',\n",
       "  'Locality': 'Philadelphia',\n",
       "  'Region': 'PA',\n",
       "  'Postal Code': '19123',\n",
       "  'Price': ['320,000',\n",
       "   '320,000',\n",
       "   '320,000',\n",
       "   '320,000',\n",
       "   '320,000',\n",
       "   '320,000',\n",
       "   '320,000',\n",
       "   '320,000',\n",
       "   '320,000'],\n",
       "  'Days on Market': ['43'],\n",
       "  'SQFT House': ['1,540', '1,540', '1,540', '1,540'],\n",
       "  'SQFT Lot': ['779', '779'],\n",
       "  'Full Baths': ['1'],\n",
       "  'Half Baths': [],\n",
       "  'Bedrooms': ['3'],\n",
       "  'Garage': [],\n",
       "  'Master Bath': [],\n",
       "  'Cooling': [' Window Unit(s)'],\n",
       "  'Heating': [' Forced Air Heating'],\n",
       "  'Annual Tax': ['4310'],\n",
       "  'House Type': [' End of Row/Townhouse'],\n",
       "  'Build Year': [' 1905', ' 1905'],\n",
       "  'Updated': [' 08/07/2020'],\n",
       "  'Neighborhood': ['NORTHERN LIBERTIES'],\n",
       "  'Neighborhood median sales': [],\n",
       "  'Neighborhood Median DOM': [],\n",
       "  'Neighborhood Price SQFT': ['239'],\n",
       "  'Association': ['No'],\n",
       "  'Association Monthly': ['0']},\n",
       " {'_id': ObjectId('5f9a02cc329f96e5db63d264'),\n",
       "  'Address': '2607 N 31st St,',\n",
       "  'Locality': 'Philadelphia',\n",
       "  'Region': 'PA',\n",
       "  'Postal Code': '19132',\n",
       "  'Price': ['62,000',\n",
       "   '62,000',\n",
       "   '62,000',\n",
       "   '62,000',\n",
       "   '62,000',\n",
       "   '62,000',\n",
       "   '62,000',\n",
       "   '62,000',\n",
       "   '62,000'],\n",
       "  'Days on Market': ['82'],\n",
       "  'SQFT House': ['1,356', '1,356', '1,356', '1,356'],\n",
       "  'SQFT Lot': ['1001', '1001'],\n",
       "  'Full Baths': ['1'],\n",
       "  'Half Baths': [],\n",
       "  'Bedrooms': ['3'],\n",
       "  'Garage': [],\n",
       "  'Master Bath': [],\n",
       "  'Cooling': [],\n",
       "  'Heating': [' Forced Air Heating'],\n",
       "  'Annual Tax': ['210'],\n",
       "  'House Type': [' End of Row/Townhouse'],\n",
       "  'Build Year': [' 1915', ' 1915'],\n",
       "  'Updated': [' 08/07/2020'],\n",
       "  'Neighborhood': ['BREWERYTOWN'],\n",
       "  'Neighborhood median sales': ['130,250'],\n",
       "  'Neighborhood Median DOM': ['52'],\n",
       "  'Neighborhood Price SQFT': ['103'],\n",
       "  'Association': ['No'],\n",
       "  'Association Monthly': ['0']},\n",
       " {'_id': ObjectId('5f9a0369329f96e5db63d265'),\n",
       "  'Address': '1106 E Haines St,',\n",
       "  'Locality': 'Philadelphia',\n",
       "  'Region': 'PA',\n",
       "  'Postal Code': '19138',\n",
       "  'Price': ['242,050',\n",
       "   '242,050',\n",
       "   '242,050',\n",
       "   '242,050',\n",
       "   '242,050',\n",
       "   '242,050',\n",
       "   '242,050',\n",
       "   '242,050',\n",
       "   '242,050'],\n",
       "  'Days on Market': ['74'],\n",
       "  'SQFT House': ['1,895', '1,895', '1,895', '1,895'],\n",
       "  'SQFT Lot': ['3850', '3850'],\n",
       "  'Full Baths': ['2'],\n",
       "  'Half Baths': [' 1'],\n",
       "  'Bedrooms': ['3'],\n",
       "  'Garage': [],\n",
       "  'Master Bath': [],\n",
       "  'Cooling': [],\n",
       "  'Heating': [],\n",
       "  'Annual Tax': [],\n",
       "  'House Type': [],\n",
       "  'Build Year': [' 1925'],\n",
       "  'Updated': [' 08/07/2020'],\n",
       "  'Neighborhood': [],\n",
       "  'Neighborhood median sales': ['125,000'],\n",
       "  'Neighborhood Median DOM': ['108'],\n",
       "  'Neighborhood Price SQFT': ['100'],\n",
       "  'Association': [],\n",
       "  'Association Monthly': []},\n",
       " {'_id': ObjectId('5f9a03f6329f96e5db63d266'),\n",
       "  'Address': '766 N Uber St,',\n",
       "  'Locality': 'Philadelphia',\n",
       "  'Region': 'PA',\n",
       "  'Postal Code': '19130',\n",
       "  'Price': ['1,302,500',\n",
       "   '1,302,500',\n",
       "   '1,302,500',\n",
       "   '1,302,500',\n",
       "   '1,302,500',\n",
       "   '1,302,500',\n",
       "   '1,302,500',\n",
       "   '1,302,500',\n",
       "   '1,302,500'],\n",
       "  'Days on Market': ['92'],\n",
       "  'SQFT House': ['3,684', '3,684', '3,684', '3,684'],\n",
       "  'SQFT Lot': ['1905', '1905'],\n",
       "  'Full Baths': ['5'],\n",
       "  'Half Baths': [' 1'],\n",
       "  'Bedrooms': ['5'],\n",
       "  'Garage': [],\n",
       "  'Master Bath': [],\n",
       "  'Cooling': [' Central A/C'],\n",
       "  'Heating': [' Forced Air Heating'],\n",
       "  'Annual Tax': ['1113'],\n",
       "  'House Type': [' Interior Row/Townhouse'],\n",
       "  'Build Year': [' 2019', ' 1985'],\n",
       "  'Updated': [' 08/07/2020'],\n",
       "  'Neighborhood': ['FRANCISVILLE'],\n",
       "  'Neighborhood median sales': ['396,900'],\n",
       "  'Neighborhood Median DOM': ['78'],\n",
       "  'Neighborhood Price SQFT': ['285'],\n",
       "  'Association': ['No'],\n",
       "  'Association Monthly': ['0']},\n",
       " {'_id': ObjectId('5f9a04be329f96e5db63d267'),\n",
       "  'Address': '4513 N Gratz St,',\n",
       "  'Locality': 'Philadelphia',\n",
       "  'Region': 'PA',\n",
       "  'Postal Code': '19140',\n",
       "  'Price': ['67,000',\n",
       "   '67,000',\n",
       "   '67,000',\n",
       "   '67,000',\n",
       "   '67,000',\n",
       "   '67,000',\n",
       "   '67,000',\n",
       "   '67,000',\n",
       "   '67,000'],\n",
       "  'Days on Market': ['50'],\n",
       "  'SQFT House': ['1,186', '1,186', '1,186', '1,186'],\n",
       "  'SQFT Lot': ['1273', '1273'],\n",
       "  'Full Baths': ['1'],\n",
       "  'Half Baths': [],\n",
       "  'Bedrooms': ['3'],\n",
       "  'Garage': [],\n",
       "  'Master Bath': [],\n",
       "  'Cooling': [],\n",
       "  'Heating': [],\n",
       "  'Annual Tax': ['938'],\n",
       "  'House Type': [' Interior Row/Townhouse'],\n",
       "  'Build Year': [' 1925', ' 1925'],\n",
       "  'Updated': [' 08/07/2020'],\n",
       "  'Neighborhood': ['LOGAN'],\n",
       "  'Neighborhood median sales': ['170,250'],\n",
       "  'Neighborhood Median DOM': ['53'],\n",
       "  'Neighborhood Price SQFT': ['104'],\n",
       "  'Association': ['No'],\n",
       "  'Association Monthly': ['0']},\n",
       " {'_id': ObjectId('5f9a0578329f96e5db63d268'),\n",
       "  'Address': '12518 Fedor Pl,',\n",
       "  'Locality': 'Philadelphia',\n",
       "  'Region': 'PA',\n",
       "  'Postal Code': '19154',\n",
       "  'Price': ['270,000',\n",
       "   '270,000',\n",
       "   '270,000',\n",
       "   '270,000',\n",
       "   '270,000',\n",
       "   '270,000',\n",
       "   '270,000',\n",
       "   '270,000',\n",
       "   '270,000'],\n",
       "  'Days on Market': ['39'],\n",
       "  'SQFT House': ['1,360', '1,360', '1,360', '1,360'],\n",
       "  'SQFT Lot': ['2000', '2000'],\n",
       "  'Full Baths': ['1'],\n",
       "  'Half Baths': [' 1'],\n",
       "  'Bedrooms': ['3'],\n",
       "  'Garage': [' 1'],\n",
       "  'Master Bath': [],\n",
       "  'Cooling': [' Central A/C'],\n",
       "  'Heating': [' Central Heating,'],\n",
       "  'Annual Tax': ['2928'],\n",
       "  'House Type': [' Interior Row/Townhouse'],\n",
       "  'Build Year': [' 1962', ' 1962'],\n",
       "  'Updated': [' 08/07/2020'],\n",
       "  'Neighborhood': ['PARKWOOD'],\n",
       "  'Neighborhood median sales': ['250,000'],\n",
       "  'Neighborhood Median DOM': ['63'],\n",
       "  'Neighborhood Price SQFT': ['195'],\n",
       "  'Association': ['No'],\n",
       "  'Association Monthly': ['0']}]"
      ]
     },
     "execution_count": 23,
     "metadata": {},
     "output_type": "execute_result"
    }
   ],
   "source": [
    "listings"
   ]
  },
  {
   "cell_type": "code",
   "execution_count": null,
   "metadata": {},
   "outputs": [],
   "source": []
  }
 ],
 "metadata": {
  "kernelspec": {
   "display_name": "Python 3",
   "language": "python",
   "name": "python3"
  },
  "language_info": {
   "codemirror_mode": {
    "name": "ipython",
    "version": 3
   },
   "file_extension": ".py",
   "mimetype": "text/x-python",
   "name": "python",
   "nbconvert_exporter": "python",
   "pygments_lexer": "ipython3",
   "version": "3.7.4"
  }
 },
 "nbformat": 4,
 "nbformat_minor": 2
}
